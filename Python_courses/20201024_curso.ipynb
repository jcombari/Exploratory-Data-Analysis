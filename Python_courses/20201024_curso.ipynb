{
  "nbformat": 4,
  "nbformat_minor": 0,
  "metadata": {
    "colab": {
      "name": "20201024_curso.ipynb",
      "provenance": [],
      "collapsed_sections": [],
      "toc_visible": true
    },
    "kernelspec": {
      "name": "python3",
      "display_name": "Python 3"
    }
  },
  "cells": [
    {
      "cell_type": "markdown",
      "metadata": {
        "id": "zQoe6t2rz0TD"
      },
      "source": [
        "## Primero importamos la librería de pandas\n",
        "\n"
      ]
    },
    {
      "cell_type": "code",
      "metadata": {
        "id": "g2YgfJTTzcEz"
      },
      "source": [
        "import pandas as pd"
      ],
      "execution_count": 2,
      "outputs": []
    },
    {
      "cell_type": "code",
      "metadata": {
        "id": "M1lbAjo3zf96"
      },
      "source": [
        "data = pd.read_csv('sample_data/20201024_curso.csv', sep=\";  \")"
      ],
      "execution_count": 7,
      "outputs": []
    },
    {
      "cell_type": "code",
      "metadata": {
        "id": "OFfy5nbW11Lx",
        "outputId": "dcb9b9f5-2438-40dd-e579-aa47a8ad3112",
        "colab": {
          "base_uri": "https://localhost:8080/",
          "height": 360
        }
      },
      "source": [
        "data.head()"
      ],
      "execution_count": 8,
      "outputs": [
        {
          "output_type": "execute_result",
          "data": {
            "text/html": [
              "<div>\n",
              "<style scoped>\n",
              "    .dataframe tbody tr th:only-of-type {\n",
              "        vertical-align: middle;\n",
              "    }\n",
              "\n",
              "    .dataframe tbody tr th {\n",
              "        vertical-align: top;\n",
              "    }\n",
              "\n",
              "    .dataframe thead th {\n",
              "        text-align: right;\n",
              "    }\n",
              "</style>\n",
              "<table border=\"1\" class=\"dataframe\">\n",
              "  <thead>\n",
              "    <tr style=\"text-align: right;\">\n",
              "      <th></th>\n",
              "      <th>Nombre</th>\n",
              "      <th>Edad</th>\n",
              "      <th>Tr@bajo</th>\n",
              "      <th>Trabajo</th>\n",
              "      <th>Estado_Civil</th>\n",
              "      <th>Nivel_escolaridad</th>\n",
              "      <th>Nivel_escolaridad.1</th>\n",
              "      <th>Tiene_Credito?</th>\n",
              "      <th>Medio_de_Comunicación</th>\n",
              "      <th>Duracion_ultimo_contacto_seg</th>\n",
              "      <th>Order_D4te</th>\n",
              "      <th>envio23$%3</th>\n",
              "      <th>Segment</th>\n",
              "      <th>Categ</th>\n",
              "      <th>SubCat</th>\n",
              "      <th>V2016</th>\n",
              "      <th>V2017</th>\n",
              "      <th>V2018</th>\n",
              "    </tr>\n",
              "  </thead>\n",
              "  <tbody>\n",
              "    <tr>\n",
              "      <th>0</th>\n",
              "      <td>ketty-elvira/niño-calderon</td>\n",
              "      <td>58</td>\n",
              "      <td>management</td>\n",
              "      <td>management</td>\n",
              "      <td>married</td>\n",
              "      <td>tertiary</td>\n",
              "      <td>tertiary</td>\n",
              "      <td>no</td>\n",
              "      <td>unknown</td>\n",
              "      <td>261</td>\n",
              "      <td>13/09/17</td>\n",
              "      <td>Regular</td>\n",
              "      <td>Hogares</td>\n",
              "      <td>Tecnología</td>\n",
              "      <td>Cuadernos</td>\n",
              "      <td>22.483</td>\n",
              "      <td>490.004</td>\n",
              "      <td>669.895</td>\n",
              "    </tr>\n",
              "    <tr>\n",
              "      <th>1</th>\n",
              "      <td>yanira-pilar/garcia-barreto</td>\n",
              "      <td>44</td>\n",
              "      <td>technician</td>\n",
              "      <td>technician</td>\n",
              "      <td>single</td>\n",
              "      <td>secondary</td>\n",
              "      <td>secondary</td>\n",
              "      <td>no</td>\n",
              "      <td>unknown</td>\n",
              "      <td>151</td>\n",
              "      <td>25/03/18</td>\n",
              "      <td>Express_Aire</td>\n",
              "      <td>Corporativo</td>\n",
              "      <td>Muebles</td>\n",
              "      <td>Lapiceros_y_Marcadores</td>\n",
              "      <td>52.225</td>\n",
              "      <td>361.837</td>\n",
              "      <td>245.154</td>\n",
              "    </tr>\n",
              "    <tr>\n",
              "      <th>2</th>\n",
              "      <td>milton-marina/hernandez-vega</td>\n",
              "      <td>33</td>\n",
              "      <td>entrepreneur</td>\n",
              "      <td>entrepreneur</td>\n",
              "      <td>married</td>\n",
              "      <td>secondary</td>\n",
              "      <td>secondary</td>\n",
              "      <td>no</td>\n",
              "      <td>unknown</td>\n",
              "      <td>76</td>\n",
              "      <td>26/09/17</td>\n",
              "      <td>Express_Aire</td>\n",
              "      <td>Corporativo</td>\n",
              "      <td>Suplementos_Oficina</td>\n",
              "      <td>Papel</td>\n",
              "      <td>90.924</td>\n",
              "      <td>903.292</td>\n",
              "      <td>166.285</td>\n",
              "    </tr>\n",
              "    <tr>\n",
              "      <th>3</th>\n",
              "      <td>rocio-constanza/mora-lopez</td>\n",
              "      <td>47</td>\n",
              "      <td>blue-collar</td>\n",
              "      <td>blue-collar</td>\n",
              "      <td>married</td>\n",
              "      <td>No informa</td>\n",
              "      <td>No informa</td>\n",
              "      <td>no</td>\n",
              "      <td>unknown</td>\n",
              "      <td>92</td>\n",
              "      <td>14/07/16</td>\n",
              "      <td>Regular</td>\n",
              "      <td>Startups</td>\n",
              "      <td>Suplementos_Oficina</td>\n",
              "      <td>Reglas_tijeras</td>\n",
              "      <td>2.681</td>\n",
              "      <td>823.176</td>\n",
              "      <td>13.273</td>\n",
              "    </tr>\n",
              "    <tr>\n",
              "      <th>4</th>\n",
              "      <td>yeimi-constanza/arenas-torres</td>\n",
              "      <td>33</td>\n",
              "      <td>NaN</td>\n",
              "      <td>NaN</td>\n",
              "      <td>single</td>\n",
              "      <td>No informa</td>\n",
              "      <td>No informa</td>\n",
              "      <td>no</td>\n",
              "      <td>unknown</td>\n",
              "      <td>198</td>\n",
              "      <td>24/06/17</td>\n",
              "      <td>Express_Aire</td>\n",
              "      <td>Startups</td>\n",
              "      <td>Suplementos_Oficina</td>\n",
              "      <td>Telefonos_comunicaciones</td>\n",
              "      <td>68.063</td>\n",
              "      <td>552.045</td>\n",
              "      <td>123.810</td>\n",
              "    </tr>\n",
              "  </tbody>\n",
              "</table>\n",
              "</div>"
            ],
            "text/plain": [
              "                          Nombre  Edad       Tr@bajo  ...   V2016    V2017    V2018\n",
              "0     ketty-elvira/niño-calderon    58    management  ...  22.483  490.004  669.895\n",
              "1    yanira-pilar/garcia-barreto    44    technician  ...  52.225  361.837  245.154\n",
              "2   milton-marina/hernandez-vega    33  entrepreneur  ...  90.924  903.292  166.285\n",
              "3     rocio-constanza/mora-lopez    47   blue-collar  ...   2.681  823.176   13.273\n",
              "4  yeimi-constanza/arenas-torres    33           NaN  ...  68.063  552.045  123.810\n",
              "\n",
              "[5 rows x 18 columns]"
            ]
          },
          "metadata": {
            "tags": []
          },
          "execution_count": 8
        }
      ]
    },
    {
      "cell_type": "code",
      "metadata": {
        "id": "bZ0K5D6W2foJ"
      },
      "source": [
        ""
      ],
      "execution_count": null,
      "outputs": []
    },
    {
      "cell_type": "markdown",
      "metadata": {
        "id": "4Kujb3xz2hIB"
      },
      "source": [
        "Vamos a comenzar a analizar"
      ]
    },
    {
      "cell_type": "code",
      "metadata": {
        "id": "p9P2daV32ls4",
        "outputId": "4caf8327-4ac1-42d6-f0f9-5b477c77b99f",
        "colab": {
          "base_uri": "https://localhost:8080/",
          "height": 442
        }
      },
      "source": [
        "data.info()"
      ],
      "execution_count": 9,
      "outputs": [
        {
          "output_type": "stream",
          "text": [
            "<class 'pandas.core.frame.DataFrame'>\n",
            "RangeIndex: 12093 entries, 0 to 12092\n",
            "Data columns (total 18 columns):\n",
            " #   Column                        Non-Null Count  Dtype  \n",
            "---  ------                        --------------  -----  \n",
            " 0   Nombre                        12093 non-null  object \n",
            " 1   Edad                          12093 non-null  int64  \n",
            " 2   Tr@bajo                       11994 non-null  object \n",
            " 3   Trabajo                       11994 non-null  object \n",
            " 4   Estado_Civil                  12093 non-null  object \n",
            " 5   Nivel_escolaridad             12093 non-null  object \n",
            " 6   Nivel_escolaridad.1           12093 non-null  object \n",
            " 7   Tiene_Credito?                12093 non-null  object \n",
            " 8   Medio_de_Comunicación         12093 non-null  object \n",
            " 9   Duracion_ultimo_contacto_seg  12093 non-null  int64  \n",
            " 10  Order_D4te                    12093 non-null  object \n",
            " 11  envio23$%3                    12093 non-null  object \n",
            " 12  Segment                       12093 non-null  object \n",
            " 13  Categ                         12093 non-null  object \n",
            " 14  SubCat                        12093 non-null  object \n",
            " 15  V2016                         12093 non-null  float64\n",
            " 16  V2017                         12093 non-null  float64\n",
            " 17  V2018                         12093 non-null  float64\n",
            "dtypes: float64(3), int64(2), object(13)\n",
            "memory usage: 1.7+ MB\n"
          ],
          "name": "stdout"
        }
      ]
    },
    {
      "cell_type": "code",
      "metadata": {
        "id": "zAz-Gsgj4TVS",
        "outputId": "d4279345-d689-4680-8f81-8963768674bd",
        "colab": {
          "base_uri": "https://localhost:8080/",
          "height": 297
        }
      },
      "source": [
        "data.describe()"
      ],
      "execution_count": 10,
      "outputs": [
        {
          "output_type": "execute_result",
          "data": {
            "text/html": [
              "<div>\n",
              "<style scoped>\n",
              "    .dataframe tbody tr th:only-of-type {\n",
              "        vertical-align: middle;\n",
              "    }\n",
              "\n",
              "    .dataframe tbody tr th {\n",
              "        vertical-align: top;\n",
              "    }\n",
              "\n",
              "    .dataframe thead th {\n",
              "        text-align: right;\n",
              "    }\n",
              "</style>\n",
              "<table border=\"1\" class=\"dataframe\">\n",
              "  <thead>\n",
              "    <tr style=\"text-align: right;\">\n",
              "      <th></th>\n",
              "      <th>Edad</th>\n",
              "      <th>Duracion_ultimo_contacto_seg</th>\n",
              "      <th>V2016</th>\n",
              "      <th>V2017</th>\n",
              "      <th>V2018</th>\n",
              "    </tr>\n",
              "  </thead>\n",
              "  <tbody>\n",
              "    <tr>\n",
              "      <th>count</th>\n",
              "      <td>12093.000000</td>\n",
              "      <td>12093.000000</td>\n",
              "      <td>12093.000000</td>\n",
              "      <td>12093.000000</td>\n",
              "      <td>12093.000000</td>\n",
              "    </tr>\n",
              "    <tr>\n",
              "      <th>mean</th>\n",
              "      <td>36.774332</td>\n",
              "      <td>209.865956</td>\n",
              "      <td>55.259546</td>\n",
              "      <td>494.921256</td>\n",
              "      <td>503.029002</td>\n",
              "    </tr>\n",
              "    <tr>\n",
              "      <th>std</th>\n",
              "      <td>14.144244</td>\n",
              "      <td>239.459645</td>\n",
              "      <td>57.594519</td>\n",
              "      <td>289.794717</td>\n",
              "      <td>289.869014</td>\n",
              "    </tr>\n",
              "    <tr>\n",
              "      <th>min</th>\n",
              "      <td>2.000000</td>\n",
              "      <td>1.000000</td>\n",
              "      <td>1.002000</td>\n",
              "      <td>1.054000</td>\n",
              "      <td>1.091000</td>\n",
              "    </tr>\n",
              "    <tr>\n",
              "      <th>25%</th>\n",
              "      <td>31.000000</td>\n",
              "      <td>57.000000</td>\n",
              "      <td>27.054000</td>\n",
              "      <td>243.326000</td>\n",
              "      <td>250.078000</td>\n",
              "    </tr>\n",
              "    <tr>\n",
              "      <th>50%</th>\n",
              "      <td>38.000000</td>\n",
              "      <td>146.000000</td>\n",
              "      <td>52.145000</td>\n",
              "      <td>487.681000</td>\n",
              "      <td>504.459000</td>\n",
              "    </tr>\n",
              "    <tr>\n",
              "      <th>75%</th>\n",
              "      <td>46.000000</td>\n",
              "      <td>267.000000</td>\n",
              "      <td>76.212000</td>\n",
              "      <td>749.219000</td>\n",
              "      <td>755.359000</td>\n",
              "    </tr>\n",
              "    <tr>\n",
              "      <th>max</th>\n",
              "      <td>61.000000</td>\n",
              "      <td>3881.000000</td>\n",
              "      <td>996.000000</td>\n",
              "      <td>999.510000</td>\n",
              "      <td>999.576000</td>\n",
              "    </tr>\n",
              "  </tbody>\n",
              "</table>\n",
              "</div>"
            ],
            "text/plain": [
              "               Edad  Duracion_ultimo_contacto_seg  ...         V2017         V2018\n",
              "count  12093.000000                  12093.000000  ...  12093.000000  12093.000000\n",
              "mean      36.774332                    209.865956  ...    494.921256    503.029002\n",
              "std       14.144244                    239.459645  ...    289.794717    289.869014\n",
              "min        2.000000                      1.000000  ...      1.054000      1.091000\n",
              "25%       31.000000                     57.000000  ...    243.326000    250.078000\n",
              "50%       38.000000                    146.000000  ...    487.681000    504.459000\n",
              "75%       46.000000                    267.000000  ...    749.219000    755.359000\n",
              "max       61.000000                   3881.000000  ...    999.510000    999.576000\n",
              "\n",
              "[8 rows x 5 columns]"
            ]
          },
          "metadata": {
            "tags": []
          },
          "execution_count": 10
        }
      ]
    },
    {
      "cell_type": "code",
      "metadata": {
        "id": "fd1Vo84q4aJH",
        "outputId": "aa8f18e9-77ab-4fbd-b4e3-cf6d3b10cadd",
        "colab": {
          "base_uri": "https://localhost:8080/",
          "height": 34
        }
      },
      "source": [
        "data.shape"
      ],
      "execution_count": 11,
      "outputs": [
        {
          "output_type": "execute_result",
          "data": {
            "text/plain": [
              "(12093, 18)"
            ]
          },
          "metadata": {
            "tags": []
          },
          "execution_count": 11
        }
      ]
    },
    {
      "cell_type": "code",
      "metadata": {
        "id": "u5NTdSGo4cI_",
        "outputId": "9714aa22-0280-4ad7-968c-382a672559cb",
        "colab": {
          "base_uri": "https://localhost:8080/",
          "height": 34
        }
      },
      "source": [
        "data.shape[0]"
      ],
      "execution_count": 12,
      "outputs": [
        {
          "output_type": "execute_result",
          "data": {
            "text/plain": [
              "12093"
            ]
          },
          "metadata": {
            "tags": []
          },
          "execution_count": 12
        }
      ]
    },
    {
      "cell_type": "code",
      "metadata": {
        "id": "b6hD5uuI4eRO",
        "outputId": "8c5297f0-8748-438a-8452-e58c90b2fe3a",
        "colab": {
          "base_uri": "https://localhost:8080/",
          "height": 34
        }
      },
      "source": [
        "data.shape[1]"
      ],
      "execution_count": 13,
      "outputs": [
        {
          "output_type": "execute_result",
          "data": {
            "text/plain": [
              "18"
            ]
          },
          "metadata": {
            "tags": []
          },
          "execution_count": 13
        }
      ]
    },
    {
      "cell_type": "code",
      "metadata": {
        "id": "jLRxN4Q04ktY",
        "outputId": "1e6a8d04-0d73-460b-d9a7-2da27d3f7bd0",
        "colab": {
          "base_uri": "https://localhost:8080/",
          "height": 340
        }
      },
      "source": [
        "data.isna().sum()"
      ],
      "execution_count": 14,
      "outputs": [
        {
          "output_type": "execute_result",
          "data": {
            "text/plain": [
              "Nombre                           0\n",
              "Edad                             0\n",
              "Tr@bajo                         99\n",
              "Trabajo                         99\n",
              "Estado_Civil                     0\n",
              "Nivel_escolaridad                0\n",
              "Nivel_escolaridad.1              0\n",
              "Tiene_Credito?                   0\n",
              "Medio_de_Comunicación            0\n",
              "Duracion_ultimo_contacto_seg     0\n",
              "Order_D4te                       0\n",
              "envio23$%3                       0\n",
              "Segment                          0\n",
              "Categ                            0\n",
              "SubCat                           0\n",
              "V2016                            0\n",
              "V2017                            0\n",
              "V2018                            0\n",
              "dtype: int64"
            ]
          },
          "metadata": {
            "tags": []
          },
          "execution_count": 14
        }
      ]
    },
    {
      "cell_type": "code",
      "metadata": {
        "id": "cNjkhoBo4kYJ",
        "outputId": "9624f27d-4b0d-428b-907c-49d54769bc42",
        "colab": {
          "base_uri": "https://localhost:8080/",
          "height": 360
        }
      },
      "source": [
        "data.head()"
      ],
      "execution_count": 15,
      "outputs": [
        {
          "output_type": "execute_result",
          "data": {
            "text/html": [
              "<div>\n",
              "<style scoped>\n",
              "    .dataframe tbody tr th:only-of-type {\n",
              "        vertical-align: middle;\n",
              "    }\n",
              "\n",
              "    .dataframe tbody tr th {\n",
              "        vertical-align: top;\n",
              "    }\n",
              "\n",
              "    .dataframe thead th {\n",
              "        text-align: right;\n",
              "    }\n",
              "</style>\n",
              "<table border=\"1\" class=\"dataframe\">\n",
              "  <thead>\n",
              "    <tr style=\"text-align: right;\">\n",
              "      <th></th>\n",
              "      <th>Nombre</th>\n",
              "      <th>Edad</th>\n",
              "      <th>Tr@bajo</th>\n",
              "      <th>Trabajo</th>\n",
              "      <th>Estado_Civil</th>\n",
              "      <th>Nivel_escolaridad</th>\n",
              "      <th>Nivel_escolaridad.1</th>\n",
              "      <th>Tiene_Credito?</th>\n",
              "      <th>Medio_de_Comunicación</th>\n",
              "      <th>Duracion_ultimo_contacto_seg</th>\n",
              "      <th>Order_D4te</th>\n",
              "      <th>envio23$%3</th>\n",
              "      <th>Segment</th>\n",
              "      <th>Categ</th>\n",
              "      <th>SubCat</th>\n",
              "      <th>V2016</th>\n",
              "      <th>V2017</th>\n",
              "      <th>V2018</th>\n",
              "    </tr>\n",
              "  </thead>\n",
              "  <tbody>\n",
              "    <tr>\n",
              "      <th>0</th>\n",
              "      <td>ketty-elvira/niño-calderon</td>\n",
              "      <td>58</td>\n",
              "      <td>management</td>\n",
              "      <td>management</td>\n",
              "      <td>married</td>\n",
              "      <td>tertiary</td>\n",
              "      <td>tertiary</td>\n",
              "      <td>no</td>\n",
              "      <td>unknown</td>\n",
              "      <td>261</td>\n",
              "      <td>13/09/17</td>\n",
              "      <td>Regular</td>\n",
              "      <td>Hogares</td>\n",
              "      <td>Tecnología</td>\n",
              "      <td>Cuadernos</td>\n",
              "      <td>22.483</td>\n",
              "      <td>490.004</td>\n",
              "      <td>669.895</td>\n",
              "    </tr>\n",
              "    <tr>\n",
              "      <th>1</th>\n",
              "      <td>yanira-pilar/garcia-barreto</td>\n",
              "      <td>44</td>\n",
              "      <td>technician</td>\n",
              "      <td>technician</td>\n",
              "      <td>single</td>\n",
              "      <td>secondary</td>\n",
              "      <td>secondary</td>\n",
              "      <td>no</td>\n",
              "      <td>unknown</td>\n",
              "      <td>151</td>\n",
              "      <td>25/03/18</td>\n",
              "      <td>Express_Aire</td>\n",
              "      <td>Corporativo</td>\n",
              "      <td>Muebles</td>\n",
              "      <td>Lapiceros_y_Marcadores</td>\n",
              "      <td>52.225</td>\n",
              "      <td>361.837</td>\n",
              "      <td>245.154</td>\n",
              "    </tr>\n",
              "    <tr>\n",
              "      <th>2</th>\n",
              "      <td>milton-marina/hernandez-vega</td>\n",
              "      <td>33</td>\n",
              "      <td>entrepreneur</td>\n",
              "      <td>entrepreneur</td>\n",
              "      <td>married</td>\n",
              "      <td>secondary</td>\n",
              "      <td>secondary</td>\n",
              "      <td>no</td>\n",
              "      <td>unknown</td>\n",
              "      <td>76</td>\n",
              "      <td>26/09/17</td>\n",
              "      <td>Express_Aire</td>\n",
              "      <td>Corporativo</td>\n",
              "      <td>Suplementos_Oficina</td>\n",
              "      <td>Papel</td>\n",
              "      <td>90.924</td>\n",
              "      <td>903.292</td>\n",
              "      <td>166.285</td>\n",
              "    </tr>\n",
              "    <tr>\n",
              "      <th>3</th>\n",
              "      <td>rocio-constanza/mora-lopez</td>\n",
              "      <td>47</td>\n",
              "      <td>blue-collar</td>\n",
              "      <td>blue-collar</td>\n",
              "      <td>married</td>\n",
              "      <td>No informa</td>\n",
              "      <td>No informa</td>\n",
              "      <td>no</td>\n",
              "      <td>unknown</td>\n",
              "      <td>92</td>\n",
              "      <td>14/07/16</td>\n",
              "      <td>Regular</td>\n",
              "      <td>Startups</td>\n",
              "      <td>Suplementos_Oficina</td>\n",
              "      <td>Reglas_tijeras</td>\n",
              "      <td>2.681</td>\n",
              "      <td>823.176</td>\n",
              "      <td>13.273</td>\n",
              "    </tr>\n",
              "    <tr>\n",
              "      <th>4</th>\n",
              "      <td>yeimi-constanza/arenas-torres</td>\n",
              "      <td>33</td>\n",
              "      <td>NaN</td>\n",
              "      <td>NaN</td>\n",
              "      <td>single</td>\n",
              "      <td>No informa</td>\n",
              "      <td>No informa</td>\n",
              "      <td>no</td>\n",
              "      <td>unknown</td>\n",
              "      <td>198</td>\n",
              "      <td>24/06/17</td>\n",
              "      <td>Express_Aire</td>\n",
              "      <td>Startups</td>\n",
              "      <td>Suplementos_Oficina</td>\n",
              "      <td>Telefonos_comunicaciones</td>\n",
              "      <td>68.063</td>\n",
              "      <td>552.045</td>\n",
              "      <td>123.810</td>\n",
              "    </tr>\n",
              "  </tbody>\n",
              "</table>\n",
              "</div>"
            ],
            "text/plain": [
              "                          Nombre  Edad       Tr@bajo  ...   V2016    V2017    V2018\n",
              "0     ketty-elvira/niño-calderon    58    management  ...  22.483  490.004  669.895\n",
              "1    yanira-pilar/garcia-barreto    44    technician  ...  52.225  361.837  245.154\n",
              "2   milton-marina/hernandez-vega    33  entrepreneur  ...  90.924  903.292  166.285\n",
              "3     rocio-constanza/mora-lopez    47   blue-collar  ...   2.681  823.176   13.273\n",
              "4  yeimi-constanza/arenas-torres    33           NaN  ...  68.063  552.045  123.810\n",
              "\n",
              "[5 rows x 18 columns]"
            ]
          },
          "metadata": {
            "tags": []
          },
          "execution_count": 15
        }
      ]
    },
    {
      "cell_type": "code",
      "metadata": {
        "id": "RqAdl8iv5gPP",
        "outputId": "45a347d6-ef50-44f6-c1c6-bbad8c8dddda",
        "colab": {
          "base_uri": "https://localhost:8080/",
          "height": 102
        }
      },
      "source": [
        "\n",
        "data.columns"
      ],
      "execution_count": 16,
      "outputs": [
        {
          "output_type": "execute_result",
          "data": {
            "text/plain": [
              "Index(['Nombre', 'Edad', 'Tr@bajo', 'Trabajo', 'Estado_Civil',\n",
              "       'Nivel_escolaridad', 'Nivel_escolaridad.1', 'Tiene_Credito?',\n",
              "       'Medio_de_Comunicación', 'Duracion_ultimo_contacto_seg', 'Order_D4te',\n",
              "       'envio23$%3', 'Segment', 'Categ', 'SubCat', 'V2016', 'V2017', 'V2018'],\n",
              "      dtype='object')"
            ]
          },
          "metadata": {
            "tags": []
          },
          "execution_count": 16
        }
      ]
    },
    {
      "cell_type": "code",
      "metadata": {
        "id": "X6sCOZj46uO2",
        "outputId": "8ecf22d3-117b-4e57-89c4-93d98fc7b4a7",
        "colab": {
          "base_uri": "https://localhost:8080/",
          "height": 68
        }
      },
      "source": [
        "data.Trabajo.unique()"
      ],
      "execution_count": 18,
      "outputs": [
        {
          "output_type": "execute_result",
          "data": {
            "text/plain": [
              "array(['management', 'technician', 'entrepreneur', 'blue-collar', nan,\n",
              "       'retired', 'admin.', 'services', 'self-employed', 'unemployed',\n",
              "       'housemaid', 'student'], dtype=object)"
            ]
          },
          "metadata": {
            "tags": []
          },
          "execution_count": 18
        }
      ]
    },
    {
      "cell_type": "code",
      "metadata": {
        "id": "kk1NgFzr5h5u",
        "outputId": "56b8cc40-f9b4-4ddc-fdc9-687b168eef66",
        "colab": {
          "base_uri": "https://localhost:8080/",
          "height": 221
        }
      },
      "source": [
        "data.Trabajo.value_counts()"
      ],
      "execution_count": 19,
      "outputs": [
        {
          "output_type": "execute_result",
          "data": {
            "text/plain": [
              "blue-collar      3751\n",
              "management       1820\n",
              "technician       1744\n",
              "admin.           1413\n",
              "services         1322\n",
              "retired           449\n",
              "entrepreneur      423\n",
              "self-employed     361\n",
              "housemaid         317\n",
              "unemployed        282\n",
              "student           112\n",
              "Name: Trabajo, dtype: int64"
            ]
          },
          "metadata": {
            "tags": []
          },
          "execution_count": 19
        }
      ]
    },
    {
      "cell_type": "code",
      "metadata": {
        "id": "HHlMfoxE7FZ-",
        "outputId": "085f8917-98c9-4a0d-daea-248089921f99",
        "colab": {
          "base_uri": "https://localhost:8080/",
          "height": 221
        }
      },
      "source": [
        "data.Trabajo.value_counts().sort_index()"
      ],
      "execution_count": 20,
      "outputs": [
        {
          "output_type": "execute_result",
          "data": {
            "text/plain": [
              "admin.           1413\n",
              "blue-collar      3751\n",
              "entrepreneur      423\n",
              "housemaid         317\n",
              "management       1820\n",
              "retired           449\n",
              "self-employed     361\n",
              "services         1322\n",
              "student           112\n",
              "technician       1744\n",
              "unemployed        282\n",
              "Name: Trabajo, dtype: int64"
            ]
          },
          "metadata": {
            "tags": []
          },
          "execution_count": 20
        }
      ]
    },
    {
      "cell_type": "code",
      "metadata": {
        "id": "clk4SOSb7Iq2",
        "outputId": "0d96cc9e-f58e-4e52-a96c-0cdd5900d9e8",
        "colab": {
          "base_uri": "https://localhost:8080/",
          "height": 221
        }
      },
      "source": [
        "data.Trabajo.value_counts(normalize=True).sort_index()*100"
      ],
      "execution_count": 24,
      "outputs": [
        {
          "output_type": "execute_result",
          "data": {
            "text/plain": [
              "admin.           11.780890\n",
              "blue-collar      31.273970\n",
              "entrepreneur      3.526763\n",
              "housemaid         2.642988\n",
              "management       15.174254\n",
              "retired           3.743538\n",
              "self-employed     3.009838\n",
              "services         11.022178\n",
              "student           0.933800\n",
              "technician       14.540604\n",
              "unemployed        2.351176\n",
              "Name: Trabajo, dtype: float64"
            ]
          },
          "metadata": {
            "tags": []
          },
          "execution_count": 24
        }
      ]
    },
    {
      "cell_type": "code",
      "metadata": {
        "id": "HJO6kVEf7drj",
        "outputId": "44584a43-89b2-4e5d-acde-544c23eef8aa",
        "colab": {
          "base_uri": "https://localhost:8080/",
          "height": 238
        }
      },
      "source": [
        "data.Trabajo.value_counts(dropna=False).sort_index()"
      ],
      "execution_count": 26,
      "outputs": [
        {
          "output_type": "execute_result",
          "data": {
            "text/plain": [
              "admin.           1413\n",
              "blue-collar      3751\n",
              "entrepreneur      423\n",
              "housemaid         317\n",
              "management       1820\n",
              "retired           449\n",
              "self-employed     361\n",
              "services         1322\n",
              "student           112\n",
              "technician       1744\n",
              "unemployed        282\n",
              "NaN                99\n",
              "Name: Trabajo, dtype: int64"
            ]
          },
          "metadata": {
            "tags": []
          },
          "execution_count": 26
        }
      ]
    },
    {
      "cell_type": "code",
      "metadata": {
        "id": "p48iWZfE9N0F",
        "outputId": "185b0eae-3146-4b8b-85ce-3d71abd3d21a",
        "colab": {
          "base_uri": "https://localhost:8080/",
          "height": 34
        }
      },
      "source": [
        "data.Trabajo.nunique()"
      ],
      "execution_count": 28,
      "outputs": [
        {
          "output_type": "execute_result",
          "data": {
            "text/plain": [
              "11"
            ]
          },
          "metadata": {
            "tags": []
          },
          "execution_count": 28
        }
      ]
    },
    {
      "cell_type": "markdown",
      "metadata": {
        "id": "Nbu1okDj9aV-"
      },
      "source": [
        "# Hasta acá exploramos el dataset con estos métodos de python\n",
        "\n",
        "* df.head()\n",
        "* df.tail()\n",
        "* df.info()\n",
        "* df.describe()\n",
        "* df.columns\n",
        "* df.unique()\n",
        "* df.nunique()\n",
        "* df.info\n",
        "* df.describe()\n",
        "* df.value_counts()\n",
        "\n"
      ]
    },
    {
      "cell_type": "code",
      "metadata": {
        "id": "OdTT28sX9gEG",
        "outputId": "80fc2715-5ab8-4138-a6af-79b2b13365f6",
        "colab": {
          "base_uri": "https://localhost:8080/",
          "height": 340
        }
      },
      "source": [
        "data.isnull().any()"
      ],
      "execution_count": 30,
      "outputs": [
        {
          "output_type": "execute_result",
          "data": {
            "text/plain": [
              "Nombre                          False\n",
              "Edad                            False\n",
              "Tr@bajo                          True\n",
              "Trabajo                          True\n",
              "Estado_Civil                    False\n",
              "Nivel_escolaridad               False\n",
              "Nivel_escolaridad.1             False\n",
              "Tiene_Credito?                  False\n",
              "Medio_de_Comunicación           False\n",
              "Duracion_ultimo_contacto_seg    False\n",
              "Order_D4te                      False\n",
              "envio23$%3                      False\n",
              "Segment                         False\n",
              "Categ                           False\n",
              "SubCat                          False\n",
              "V2016                           False\n",
              "V2017                           False\n",
              "V2018                           False\n",
              "dtype: bool"
            ]
          },
          "metadata": {
            "tags": []
          },
          "execution_count": 30
        }
      ]
    },
    {
      "cell_type": "code",
      "metadata": {
        "id": "UdXS3EiP-Ohs"
      },
      "source": [
        ""
      ],
      "execution_count": null,
      "outputs": []
    },
    {
      "cell_type": "markdown",
      "metadata": {
        "id": "ApI7ix2P-Ptn"
      },
      "source": [
        "# Ahora vamos a limpiar el dataset"
      ]
    },
    {
      "cell_type": "code",
      "metadata": {
        "id": "ytOkeVW3-SyR"
      },
      "source": [
        "data = data.dropna()"
      ],
      "execution_count": 31,
      "outputs": []
    },
    {
      "cell_type": "code",
      "metadata": {
        "id": "4ItWURPd_F01",
        "outputId": "f079a2d7-b53d-4f22-b7af-2c21e3c4cd00",
        "colab": {
          "base_uri": "https://localhost:8080/",
          "height": 340
        }
      },
      "source": [
        "data.isna().sum()"
      ],
      "execution_count": 32,
      "outputs": [
        {
          "output_type": "execute_result",
          "data": {
            "text/plain": [
              "Nombre                          0\n",
              "Edad                            0\n",
              "Tr@bajo                         0\n",
              "Trabajo                         0\n",
              "Estado_Civil                    0\n",
              "Nivel_escolaridad               0\n",
              "Nivel_escolaridad.1             0\n",
              "Tiene_Credito?                  0\n",
              "Medio_de_Comunicación           0\n",
              "Duracion_ultimo_contacto_seg    0\n",
              "Order_D4te                      0\n",
              "envio23$%3                      0\n",
              "Segment                         0\n",
              "Categ                           0\n",
              "SubCat                          0\n",
              "V2016                           0\n",
              "V2017                           0\n",
              "V2018                           0\n",
              "dtype: int64"
            ]
          },
          "metadata": {
            "tags": []
          },
          "execution_count": 32
        }
      ]
    },
    {
      "cell_type": "code",
      "metadata": {
        "id": "1P-1jq_O_s81"
      },
      "source": [
        ""
      ],
      "execution_count": null,
      "outputs": []
    },
    {
      "cell_type": "code",
      "metadata": {
        "id": "0r1axA18-S-d",
        "outputId": "18f60986-8f8f-4018-f3d2-7f2a2fb59eb7",
        "colab": {
          "base_uri": "https://localhost:8080/",
          "height": 34
        }
      },
      "source": [
        "data.Medio_de_Comunicación.unique()"
      ],
      "execution_count": 33,
      "outputs": [
        {
          "output_type": "execute_result",
          "data": {
            "text/plain": [
              "array(['unknown'], dtype=object)"
            ]
          },
          "metadata": {
            "tags": []
          },
          "execution_count": 33
        }
      ]
    },
    {
      "cell_type": "code",
      "metadata": {
        "id": "WMKZalHnAEIU",
        "outputId": "65c0ed13-1d6a-4761-d25b-35e0c45160e8",
        "colab": {
          "base_uri": "https://localhost:8080/",
          "height": 34
        }
      },
      "source": [
        "data.shape"
      ],
      "execution_count": 34,
      "outputs": [
        {
          "output_type": "execute_result",
          "data": {
            "text/plain": [
              "(11994, 18)"
            ]
          },
          "metadata": {
            "tags": []
          },
          "execution_count": 34
        }
      ]
    },
    {
      "cell_type": "markdown",
      "metadata": {
        "id": "_Q96UjwfAll1"
      },
      "source": [
        "data.loc[filas,columnas]"
      ]
    },
    {
      "cell_type": "code",
      "metadata": {
        "id": "u40qEiu-AGBt",
        "outputId": "cb89f811-813d-4fcf-c528-d217548fe12e",
        "colab": {
          "base_uri": "https://localhost:8080/",
          "height": 340
        }
      },
      "source": [
        "#todois los regisdtros de la segunta columna\n",
        "data.loc[1,:]"
      ],
      "execution_count": 36,
      "outputs": [
        {
          "output_type": "execute_result",
          "data": {
            "text/plain": [
              "Nombre                          yanira-pilar/garcia-barreto\n",
              "Edad                                                     44\n",
              "Tr@bajo                                          technician\n",
              "Trabajo                                          technician\n",
              "Estado_Civil                                         single\n",
              "Nivel_escolaridad                                 secondary\n",
              "Nivel_escolaridad.1                               secondary\n",
              "Tiene_Credito?                                           no\n",
              "Medio_de_Comunicación                               unknown\n",
              "Duracion_ultimo_contacto_seg                            151\n",
              "Order_D4te                                         25/03/18\n",
              "envio23$%3                                     Express_Aire\n",
              "Segment                                         Corporativo\n",
              "Categ                                               Muebles\n",
              "SubCat                               Lapiceros_y_Marcadores\n",
              "V2016                                                52.225\n",
              "V2017                                               361.837\n",
              "V2018                                               245.154\n",
              "Name: 1, dtype: object"
            ]
          },
          "metadata": {
            "tags": []
          },
          "execution_count": 36
        }
      ]
    },
    {
      "cell_type": "markdown",
      "metadata": {
        "id": "NfQIVFfED7oF"
      },
      "source": [
        "# Sección nueva"
      ]
    },
    {
      "cell_type": "code",
      "metadata": {
        "id": "XSYl4UCTAz4M",
        "outputId": "e689e84f-4ce2-4a25-eb70-d03113ecf67d",
        "colab": {
          "base_uri": "https://localhost:8080/",
          "height": 419
        }
      },
      "source": [
        "data.loc[:,['Trabajo']]"
      ],
      "execution_count": 38,
      "outputs": [
        {
          "output_type": "execute_result",
          "data": {
            "text/html": [
              "<div>\n",
              "<style scoped>\n",
              "    .dataframe tbody tr th:only-of-type {\n",
              "        vertical-align: middle;\n",
              "    }\n",
              "\n",
              "    .dataframe tbody tr th {\n",
              "        vertical-align: top;\n",
              "    }\n",
              "\n",
              "    .dataframe thead th {\n",
              "        text-align: right;\n",
              "    }\n",
              "</style>\n",
              "<table border=\"1\" class=\"dataframe\">\n",
              "  <thead>\n",
              "    <tr style=\"text-align: right;\">\n",
              "      <th></th>\n",
              "      <th>Trabajo</th>\n",
              "    </tr>\n",
              "  </thead>\n",
              "  <tbody>\n",
              "    <tr>\n",
              "      <th>0</th>\n",
              "      <td>management</td>\n",
              "    </tr>\n",
              "    <tr>\n",
              "      <th>1</th>\n",
              "      <td>technician</td>\n",
              "    </tr>\n",
              "    <tr>\n",
              "      <th>2</th>\n",
              "      <td>entrepreneur</td>\n",
              "    </tr>\n",
              "    <tr>\n",
              "      <th>3</th>\n",
              "      <td>blue-collar</td>\n",
              "    </tr>\n",
              "    <tr>\n",
              "      <th>5</th>\n",
              "      <td>management</td>\n",
              "    </tr>\n",
              "    <tr>\n",
              "      <th>...</th>\n",
              "      <td>...</td>\n",
              "    </tr>\n",
              "    <tr>\n",
              "      <th>12088</th>\n",
              "      <td>admin.</td>\n",
              "    </tr>\n",
              "    <tr>\n",
              "      <th>12089</th>\n",
              "      <td>technician</td>\n",
              "    </tr>\n",
              "    <tr>\n",
              "      <th>12090</th>\n",
              "      <td>technician</td>\n",
              "    </tr>\n",
              "    <tr>\n",
              "      <th>12091</th>\n",
              "      <td>technician</td>\n",
              "    </tr>\n",
              "    <tr>\n",
              "      <th>12092</th>\n",
              "      <td>management</td>\n",
              "    </tr>\n",
              "  </tbody>\n",
              "</table>\n",
              "<p>11994 rows × 1 columns</p>\n",
              "</div>"
            ],
            "text/plain": [
              "            Trabajo\n",
              "0        management\n",
              "1        technician\n",
              "2      entrepreneur\n",
              "3       blue-collar\n",
              "5        management\n",
              "...             ...\n",
              "12088        admin.\n",
              "12089    technician\n",
              "12090    technician\n",
              "12091    technician\n",
              "12092    management\n",
              "\n",
              "[11994 rows x 1 columns]"
            ]
          }, 
          "metadata": {
            "tags": []
          },
          "execution_count": 38
        }
      ]
    },
    {
      "cell_type": "markdown",
      "metadata": {
        "id": "FXCOF-UEERB2"
      },
      "source": [
        "# Sección nueva"
      ]
    },
    {
      "cell_type": "code",
      "metadata": {
        "id": "ZsRPYjmPA_p1",
        "outputId": "9fb43d27-9044-4630-b9c5-54d280480c4a",
        "colab": {
          "base_uri": "https://localhost:8080/",
          "height": 419
        }
      },
      "source": [
        "data.loc[:,['Trabajo','Medio_de_Comunicación']]"
      ],
      "execution_count": 39,
      "outputs": [
        {
          "output_type": "execute_result",
          "data": {
            "text/html": [
              "<div>\n",
              "<style scoped>\n",
              "    .dataframe tbody tr th:only-of-type {\n",
              "        vertical-align: middle;\n",
              "    }\n",
              "\n",
              "    .dataframe tbody tr th {\n",
              "        vertical-align: top;\n",
              "    }\n",
              "\n",
              "    .dataframe thead th {\n",
              "        text-align: right;\n",
              "    }\n",
              "</style>\n",
              "<table border=\"1\" class=\"dataframe\">\n",
              "  <thead>\n",
              "    <tr style=\"text-align: right;\">\n",
              "      <th></th>\n",
              "      <th>Trabajo</th>\n",
              "      <th>Medio_de_Comunicación</th>\n",
              "    </tr>\n",
              "  </thead>\n",
              "  <tbody>\n",
              "    <tr>\n",
              "      <th>0</th>\n",
              "      <td>management</td>\n",
              "      <td>unknown</td>\n",
              "    </tr>\n",
              "    <tr>\n",
              "      <th>1</th>\n",
              "      <td>technician</td>\n",
              "      <td>unknown</td>\n",
              "    </tr>\n",
              "    <tr>\n",
              "      <th>2</th>\n",
              "      <td>entrepreneur</td>\n",
              "      <td>unknown</td>\n",
              "    </tr>\n",
              "    <tr>\n",
              "      <th>3</th>\n",
              "      <td>blue-collar</td>\n",
              "      <td>unknown</td>\n",
              "    </tr>\n",
              "    <tr>\n",
              "      <th>5</th>\n",
              "      <td>management</td>\n",
              "      <td>unknown</td>\n",
              "    </tr>\n",
              "    <tr>\n",
              "      <th>...</th>\n",
              "      <td>...</td>\n",
              "      <td>...</td>\n",
              "    </tr>\n",
              "    <tr>\n",
              "      <th>12088</th>\n",
              "      <td>admin.</td>\n",
              "      <td>unknown</td>\n",
              "    </tr>\n",
              "    <tr>\n",
              "      <th>12089</th>\n",
              "      <td>technician</td>\n",
              "      <td>unknown</td>\n",
              "    </tr>\n",
              "    <tr>\n",
              "      <th>12090</th>\n",
              "      <td>technician</td>\n",
              "      <td>unknown</td>\n",
              "    </tr>\n",
              "    <tr>\n",
              "      <th>12091</th>\n",
              "      <td>technician</td>\n",
              "      <td>unknown</td>\n",
              "    </tr>\n",
              "    <tr>\n",
              "      <th>12092</th>\n",
              "      <td>management</td>\n",
              "      <td>unknown</td>\n",
              "    </tr>\n",
              "  </tbody>\n",
              "</table>\n",
              "<p>11994 rows × 2 columns</p>\n",
              "</div>"
            ],
            "text/plain": [
              "            Trabajo Medio_de_Comunicación\n",
              "0        management               unknown\n",
              "1        technician               unknown\n",
              "2      entrepreneur               unknown\n",
              "3       blue-collar               unknown\n",
              "5        management               unknown\n",
              "...             ...                   ...\n",
              "12088        admin.               unknown\n",
              "12089    technician               unknown\n",
              "12090    technician               unknown\n",
              "12091    technician               unknown\n",
              "12092    management               unknown\n",
              "\n",
              "[11994 rows x 2 columns]"
            ]
          },
          "metadata": {
            "tags": []
          },
          "execution_count": 39
        }
      ]
    },
    {
      "cell_type": "code",
      "metadata": {
        "id": "EvJybJRUA8D1"
      },
      "source": [
        "borrar=data.loc[:,['Trabajo','Medio_de_Comunicación','Nivel_escolaridad.1']]"
      ],
      "execution_count": 40,
      "outputs": []
    },
    {
      "cell_type": "code",
      "metadata": {
        "id": "5Brqns39B10l"
      },
      "source": [
        "data = data.drop(borrar,axis=1).copy()"
      ],
      "execution_count": 41,
      "outputs": []
    },
    {
      "cell_type": "code",
      "metadata": {
        "id": "iolc4pMzB-rE",
        "outputId": "72b90e5b-0785-44ae-b3cf-96a5a8520ac0",
        "colab": {
          "base_uri": "https://localhost:8080/",
          "height": 85
        }
      },
      "source": [
        "data.columns"
      ],
      "execution_count": 42,
      "outputs": [
        {
          "output_type": "execute_result",
          "data": {
            "text/plain": [
              "Index(['Nombre', 'Edad', 'Tr@bajo', 'Estado_Civil', 'Nivel_escolaridad',\n",
              "       'Tiene_Credito?', 'Duracion_ultimo_contacto_seg', 'Order_D4te',\n",
              "       'envio23$%3', 'Segment', 'Categ', 'SubCat', 'V2016', 'V2017', 'V2018'],\n",
              "      dtype='object')"
            ]
          },
          "metadata": {
            "tags": []
          },
          "execution_count": 42
        }
      ]
    },
    {
      "cell_type": "code",
      "metadata": {
        "id": "bRiLJ8N0CAC0",
        "outputId": "d86757f9-3e48-4088-9a08-c7c563d1a3b8",
        "colab": {
          "base_uri": "https://localhost:8080/",
          "height": 34
        }
      },
      "source": [
        "data.shape"
      ],
      "execution_count": 43,
      "outputs": [
        {
          "output_type": "execute_result",
          "data": {
            "text/plain": [
              "(11994, 15)"
            ]
          },
          "metadata": {
            "tags": []
          },
          "execution_count": 43
        }
      ]
    },
    {
      "cell_type": "code",
      "metadata": {
        "id": "nSvXTmhRCbsD"
      },
      "source": [
        "data['Trabajo']='blue-collar'"
      ],
      "execution_count": 45,
      "outputs": []
    },
    {
      "cell_type": "code",
      "metadata": {
        "id": "BoqiQzgvCj98"
      },
      "source": [
        "operarios=data[data['Trabajo']=='blue-collar']"
      ],
      "execution_count": 46,
      "outputs": []
    },
    {
      "cell_type": "code",
      "metadata": {
        "id": "-HwXzrGADUxz",
        "outputId": "6a41c728-d02e-4c5c-e4e8-9385b20795c1",
        "colab": {
          "base_uri": "https://localhost:8080/",
          "height": 34
        }
      },
      "source": [
        "operarios.shape"
      ],
      "execution_count": 47,
      "outputs": [
        {
          "output_type": "execute_result",
          "data": {
            "text/plain": [
              "(11994, 16)"
            ]
          },
          "metadata": {
            "tags": []
          },
          "execution_count": 47
        }
      ]
    }
  ]
}
