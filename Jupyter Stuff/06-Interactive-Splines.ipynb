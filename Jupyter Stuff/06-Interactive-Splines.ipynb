{
 "cells": [
  {
   "cell_type": "code",
   "execution_count": null,
   "metadata": {
    "ExecuteTime": {
     "end_time": "2020-06-02T00:23:23.485630Z",
     "start_time": "2020-06-02T00:23:21.437985Z"
    },
    "execution_event_id": "aa730533-01d9-4a27-b437-667bd82f9205",
    "last_executed_text": "%matplotlib inline\n\nfrom matplotlib.collections import LineCollection\nimport matplotlib.pyplot as plt\nfrom scipy import interpolate\nimport numpy as np\nfrom numpy.random import rand\n\nfrom ipywidgets import FloatSlider, interactive, IntSlider",
    "persistent_id": "1711e28e-fa0a-43f2-95e9-a9e952504584"
   },
   "outputs": [],
   "source": [
    "%matplotlib inline\n",
    "\n",
    "import functools\n",
    "from matplotlib.collections import LineCollection\n",
    "import matplotlib.pyplot as plt\n",
    "from scipy import interpolate\n",
    "import numpy as np\n",
    "from numpy.random import rand\n",
    "\n",
    "from ipywidgets import FloatSlider, interactive, IntSlider\n",
    "import seaborn as sns\n",
    "sns.set_context('poster')\n",
    "sns.set_style('whitegrid') \n",
    "# sns.set_style('darkgrid') \n",
    "plt.rcParams['figure.figsize'] = 12, 8  # plotsize \n"
   ]
  },
  {
   "cell_type": "code",
   "execution_count": null,
   "metadata": {
    "ExecuteTime": {
     "end_time": "2020-06-02T00:23:45.730773Z",
     "start_time": "2020-06-02T00:23:45.723478Z"
    },
    "execution_event_id": "ebd63c20-b897-4129-8ca0-05611db607bd",
    "last_executed_text": "def simple_example(amplitude=2.0, phase=0.0):\n    plt.rcParams['figure.figsize'] = 8,6\n    plt.figure()\n    x = np.linspace(-2*np.pi, 2*np.pi, 1000)\n    y = amplitude * np.sin(x + phase)\n    plt.plot(x, y)\n    plt.xlim(-3, 3)\n    plt.ylim(-2*np.pi, 2*np.pi)\n    plt.show()\n    return",
    "persistent_id": "f15cc174-d5c7-4e0a-978d-5739a5bacd39"
   },
   "outputs": [],
   "source": [
    "def simple_example(amplitude=2.0, phase=0.0):\n",
    "    \"\"\"Simple sin function.\"\"\"\n",
    "    x = np.linspace(-2 * np.pi, 2 * np.pi, 1000)\n",
    "    y = amplitude * np.sin(x - phase)\n",
    "\n",
    "    fig, ax = plt.subplots(figsize=(8, 6))\n",
    "    fig.patch.set_facecolor(\"w\")\n",
    "    ax.plot(x, y, label=\"Example\")\n",
    "    ax.set_xlim(-3, 3)\n",
    "    ax.set_ylim(-2 * np.pi, 2 * np.pi)\n",
    "    ax.axhline(0, color=\"k\")\n",
    "    ax.legend(loc=\"best\")\n",
    "    ax.set_xlabel(\"x label\")\n",
    "    ax.set_ylabel(\"y label\")\n",
    "    fig.tight_layout()\n",
    "    return fig"
   ]
  },
  {
   "cell_type": "code",
   "execution_count": null,
   "metadata": {
    "ExecuteTime": {
     "end_time": "2020-06-02T00:23:46.671973Z",
     "start_time": "2020-06-02T00:23:46.165694Z"
    },
    "execution_event_id": "a147b3d0-976d-475a-b783-26ef4342429e",
    "last_executed_text": "amplitude_slider = FloatSlider(value=2.0, min=0, max=6.0, step=.1)\nphase_slider = FloatSlider(value=0.0, min=-np.pi, max=np.pi, step=.10)\n\ninteractive(simple_example,\n            amplitude=amplitude_slider,\n            phase=phase_slider\n           )",
    "persistent_id": "daeb2423-4a57-4633-b39d-7fc846aca80f"
   },
   "outputs": [],
   "source": [
    "amplitude_slider = FloatSlider(value=2.0, min=0, max=6.0, step=.1)\n",
    "phase_slider = FloatSlider(value=0.0, min=-np.pi, max=np.pi, step=.10)\n",
    "\n",
    "interactive(simple_example,\n",
    "            amplitude=amplitude_slider,\n",
    "            phase=phase_slider\n",
    "           )"
   ]
  },
  {
   "cell_type": "code",
   "execution_count": null,
   "metadata": {},
   "outputs": [],
   "source": []
  },
  {
   "cell_type": "code",
   "execution_count": null,
   "metadata": {},
   "outputs": [],
   "source": []
  }
 ],
 "metadata": {
  "anaconda-cloud": {},
  "hide_input": false,
  "history": [
   {
    "cell": {
     "executionCount": 1,
     "executionEventId": "aa730533-01d9-4a27-b437-667bd82f9205",
     "hasError": false,
     "id": "139fe120-6698-4380-a9cc-6187284fb054",
     "outputs": [],
     "persistentId": "1711e28e-fa0a-43f2-95e9-a9e952504584",
     "text": "%matplotlib inline\n\nfrom matplotlib.collections import LineCollection\nimport matplotlib.pyplot as plt\nfrom scipy import interpolate\nimport numpy as np\nfrom numpy.random import rand\n\nfrom ipywidgets import FloatSlider, interactive, IntSlider"
    },
    "executionTime": "2019-09-09T21:58:47.473Z"
   },
   {
    "cell": {
     "executionCount": 2,
     "executionEventId": "ebd63c20-b897-4129-8ca0-05611db607bd",
     "hasError": false,
     "id": "64c4ebdd-f6a2-48a2-8db0-723881391937",
     "outputs": [],
     "persistentId": "f15cc174-d5c7-4e0a-978d-5739a5bacd39",
     "text": "def simple_example(amplitude=2.0, phase=0.0):\n    plt.rcParams['figure.figsize'] = 8,6\n    plt.figure()\n    x = np.linspace(-2*np.pi, 2*np.pi, 1000)\n    y = amplitude * np.sin(x + phase)\n    plt.plot(x, y)\n    plt.xlim(-3, 3)\n    plt.ylim(-2*np.pi, 2*np.pi)\n    plt.show()\n    return"
    },
    "executionTime": "2019-09-09T21:58:48.154Z"
   },
   {
    "cell": {
     "executionCount": 3,
     "executionEventId": "a147b3d0-976d-475a-b783-26ef4342429e",
     "hasError": false,
     "id": "f233cb84-ee17-4e69-9873-2a7b827a3f0d",
     "outputs": [
      {
       "data": {
        "application/vnd.jupyter.widget-view+json": {
         "model_id": "49b241ffa49842bda80e67662bfb47ea",
         "version_major": 2,
         "version_minor": 0
        },
        "text/plain": "interactive(children=(FloatSlider(value=2.0, description='amplitude', max=6.0), FloatSlider(value=0.0, descrip…"
       },
       "metadata": {},
       "output_type": "display_data"
      }
     ],
     "persistentId": "daeb2423-4a57-4633-b39d-7fc846aca80f",
     "text": "amplitude_slider = FloatSlider(value=2.0, min=0, max=6.0, step=.1)\nphase_slider = FloatSlider(value=0.0, min=-np.pi, max=np.pi, step=.10)\n\ninteractive(simple_example,\n            amplitude=amplitude_slider,\n            phase=phase_slider\n           )"
    },
    "executionTime": "2019-09-09T21:58:49.282Z"
   },
   {
    "cell": {
     "executionCount": 4,
     "executionEventId": "de398124-5310-4cc5-a752-5c004c7a6bfc",
     "hasError": false,
     "id": "f09757c6-3179-4688-9ea3-086cfbea5121",
     "outputs": [
      {
       "data": {
        "application/vnd.jupyter.widget-view+json": {
         "model_id": "113f938420b34ef59fe01c107d64ad0e",
         "version_major": 2,
         "version_minor": 0
        },
        "text/plain": "interactive(children=(IntSlider(value=8, description='num', max=20, min=4), FloatSlider(value=0.0, description…"
       },
       "metadata": {},
       "output_type": "display_data"
      }
     ],
     "persistentId": "c2809b5d-f933-41eb-9ca5-cac9b6283487",
     "text": "def spline_demo(num=14, smooth=0, seed=10, brush_strokes=30, alpha=0.5):\n    a = np.random.RandomState(seed=seed)\n    x = a.rand(num)\n    y = a.rand(num)\n    t = np.arange(0, 1.1, .1)\n    plt.rcParams['figure.figsize'] = 8, 8\n    plt.figure()\n    for brush_stroke in range(brush_strokes):\n        tck, u = interpolate.splprep(\n            [x + a.rand(num) / 10.0, y + a.rand(num) / 10.0], s=smooth)\n        unew = np.arange(0, 1.01, 0.001)\n        out = interpolate.splev(unew, tck)\n        plt.plot(out[0], out[1], alpha=alpha, c='black', linewidth=3.0)\n    plt.xlim(-1.5, 2.)\n    plt.ylim(-1.5, 2.)\n    plt.axis('off')\n    plt.show()\n\n\nsmooth_slider = FloatSlider(value=0, min=0, max=20.0, step=.1)\nnum_points_slider = IntSlider(value=8, min=4, max=20)\nseed_slider = IntSlider(value=4, min=4, max=20)\nbrush_slider = IntSlider(value=1, min=1, max=20)\nalpha_slider = FloatSlider(value=.5, min=0, max=1.0, step=.05)\n\nw = interactive(\n    spline_demo,\n    smooth=smooth_slider,\n    num=num_points_slider,\n    seed=seed_slider,\n    brush_strokes=brush_slider,\n    alpha=alpha_slider)\nw"
    },
    "executionTime": "2019-09-09T21:58:56.425Z"
   }
  ],
  "kernelspec": {
   "display_name": "dspy3",
   "language": "python",
   "name": "dspy3"
  },
  "language_info": {
   "codemirror_mode": {
    "name": "ipython",
    "version": 3
   },
   "file_extension": ".py",
   "mimetype": "text/x-python",
   "name": "python",
   "nbconvert_exporter": "python",
   "pygments_lexer": "ipython3",
   "version": "3.6.11"
  },
  "toc": {
   "base_numbering": 1,
   "nav_menu": {
    "height": "12px",
    "width": "252px"
   },
   "number_sections": true,
   "sideBar": true,
   "skip_h1_title": false,
   "title_cell": "Table of Contents",
   "title_sidebar": "Contents",
   "toc_cell": false,
   "toc_position": {},
   "toc_section_display": "block",
   "toc_window_display": false
  },
  "uuid": "c4ab12b9-2054-4f48-939f-a7536e39dd2e",
  "varInspector": {
   "cols": {
    "lenName": 16,
    "lenType": 16,
    "lenVar": 40
   },
   "kernels_config": {
    "python": {
     "delete_cmd_postfix": "",
     "delete_cmd_prefix": "del ",
     "library": "var_list.py",
     "varRefreshCmd": "print(var_dic_list())"
    },
    "r": {
     "delete_cmd_postfix": ") ",
     "delete_cmd_prefix": "rm(",
     "library": "var_list.r",
     "varRefreshCmd": "cat(var_dic_list()) "
    }
   },
   "types_to_exclude": [
    "module",
    "function",
    "builtin_function_or_method",
    "instance",
    "_Feature"
   ],
   "window_display": false
  },
  "widgets": {
   "state": {
    "2d5c1a38b6fa4f8cb0fc51837d1a1096": {
     "views": [
      {
       "cell_index": 2
      }
     ]
    },
    "2f0955e5054942bf9031854eaea14d2a": {
     "views": [
      {
       "cell_index": 3
      }
     ]
    },
    "5205ad7666ac454c8dededcc76c0eae7": {
     "views": [
      {
       "cell_index": 7
      }
     ]
    },
    "859981a099934515887f41069f22d992": {
     "views": [
      {
       "cell_index": 8
      }
     ]
    },
    "9a8f2c644d434e69b76ac69358781a9f": {
     "views": [
      {
       "cell_index": 7
      }
     ]
    },
    "bf8ee1c1ae2f4b69bd83960aac95c562": {
     "views": [
      {
       "cell_index": 8
      }
     ]
    },
    "e0baa1ed1cec4014b008642cb9e7ac18": {
     "views": [
      {
       "cell_index": 8
      }
     ]
    },
    "f2754076a4014a358fa7065d2a3da65d": {
     "views": [
      {
       "cell_index": 7
      }
     ]
    }
   },
   "version": "1.2.0"
  }
 },
 "nbformat": 4,
 "nbformat_minor": 2
}
