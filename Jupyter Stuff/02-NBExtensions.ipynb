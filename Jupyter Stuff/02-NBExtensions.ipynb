{
 "cells": [
  {
   "cell_type": "markdown",
   "metadata": {
    "toc": true
   },
   "source": [
    "<h1>Table of Contents<span class=\"tocSkip\"></span></h1>\n",
    "<div class=\"toc\"><ul class=\"toc-item\"><li><span><a href=\"#Notebook-Extensions\" data-toc-modified-id=\"Notebook-Extensions-1\">Notebook Extensions</a></span><ul class=\"toc-item\"><li><span><a href=\"#Check-out-nbdime\" data-toc-modified-id=\"Check-out-nbdime-1.1\">Check out nbdime</a></span></li><li><span><a href=\"#ToC(2)\" data-toc-modified-id=\"ToC(2)-1.2\">ToC(2)</a></span></li><li><span><a href=\"#ExecuteTime\" data-toc-modified-id=\"ExecuteTime-1.3\">ExecuteTime</a></span></li><li><span><a href=\"#Snippets-Menu\" data-toc-modified-id=\"Snippets-Menu-1.4\">Snippets Menu</a></span></li><li><span><a href=\"#Python-Markdown----Maybe-doesn't-work-right-now-for-some-reason?\" data-toc-modified-id=\"Python-Markdown----Maybe-doesn't-work-right-now-for-some-reason?-1.5\">Python Markdown -- Maybe doesn't work right now for some reason?</a></span></li><li><span><a href=\"#Code-prettify\" data-toc-modified-id=\"Code-prettify-1.6\">Code prettify</a></span></li><li><span><a href=\"#Collapsible-Headings\" data-toc-modified-id=\"Collapsible-Headings-1.7\">Collapsible Headings</a></span></li><li><span><a href=\"#Notify----disappointing-:(\" data-toc-modified-id=\"Notify----disappointing-:(-1.8\">Notify -- disappointing :(</a></span></li></ul></li><li><span><a href=\"#Outside-Notebooks\" data-toc-modified-id=\"Outside-Notebooks-2\">Outside Notebooks</a></span><ul class=\"toc-item\"><li><span><a href=\"#Tree-Filter\" data-toc-modified-id=\"Tree-Filter-2.1\">Tree Filter</a></span></li></ul></li></ul></div>"
   ]
  },
  {
   "cell_type": "code",
   "execution_count": null,
   "metadata": {
    "ExecuteTime": {
     "end_time": "2020-06-02T00:06:52.600337Z",
     "start_time": "2020-06-02T00:06:48.493434Z"
    }
   },
   "outputs": [],
   "source": [
    "from __future__ import print_function, division\n",
    "import matplotlib as mpl\n",
    "import matplotlib.pyplot as plt\n",
    "%matplotlib inline\n",
    "\n",
    "import numpy as np\n",
    "import pandas as pd\n",
    "import textwrap\n",
    "import os\n",
    "import sys\n",
    "import warnings\n",
    "warnings.filterwarnings('ignore')\n",
    "\n",
    "# special things\n",
    "from pivottablejs import pivot_ui\n",
    "from ipywidgets import FloatSlider, interactive, IntSlider\n",
    "from scipy import interpolate\n",
    "\n",
    "# sql\n",
    "%load_ext sql_magic\n",
    "import sqlalchemy\n",
    "import sqlite3\n",
    "from sqlalchemy import create_engine\n",
    "sqlite_engine = create_engine('sqlite://')\n",
    "\n",
    "# autoreload\n",
    "%load_ext autoreload\n",
    "%autoreload 1\n",
    "# %aimport module_to_reload\n",
    "\n",
    "# ehh...\n",
    "# import bqplot.pyplot as plt\n",
    "import ipyvolume as ipv\n",
    "import altair as alt\n",
    "from vega_datasets import data\n",
    "\n",
    "import seaborn as sns\n",
    "sns.set_context('poster', font_scale=1.3)"
   ]
  },
  {
   "cell_type": "code",
   "execution_count": null,
   "metadata": {
    "ExecuteTime": {
     "end_time": "2020-06-02T00:07:55.734899Z",
     "start_time": "2020-06-02T00:07:55.729408Z"
    }
   },
   "outputs": [],
   "source": [
    "a = \"hi\"\n",
    "b  = np.array([1, 2, 4, 6])"
   ]
  },
  {
   "cell_type": "code",
   "execution_count": null,
   "metadata": {},
   "outputs": [],
   "source": []
  },
  {
   "cell_type": "markdown",
   "metadata": {},
   "source": [
    "# Notebook Extensions"
   ]
  },
  {
   "cell_type": "markdown",
   "metadata": {},
   "source": [
    "## Check out nbdime\n",
    "\n",
    "https://github.com/jupyter/nbdime\n",
    "\n",
    "and the documentation about adding the nbdime  https://nbdime.readthedocs.io/en/latest/extensions.html "
   ]
  },
  {
   "cell_type": "markdown",
   "metadata": {},
   "source": [
    "## ToC(2)"
   ]
  },
  {
   "cell_type": "markdown",
   "metadata": {},
   "source": [
    "## ExecuteTime"
   ]
  },
  {
   "cell_type": "code",
   "execution_count": null,
   "metadata": {
    "ExecuteTime": {
     "end_time": "2020-06-02T00:10:51.036974Z",
     "start_time": "2020-06-02T00:10:51.028214Z"
    }
   },
   "outputs": [],
   "source": [
    "print(\"hello world\")"
   ]
  },
  {
   "cell_type": "markdown",
   "metadata": {},
   "source": [
    "## Snippets Menu "
   ]
  },
  {
   "cell_type": "code",
   "execution_count": null,
   "metadata": {},
   "outputs": [],
   "source": []
  },
  {
   "cell_type": "code",
   "execution_count": null,
   "metadata": {},
   "outputs": [],
   "source": []
  },
  {
   "cell_type": "code",
   "execution_count": null,
   "metadata": {},
   "outputs": [],
   "source": []
  },
  {
   "cell_type": "code",
   "execution_count": null,
   "metadata": {},
   "outputs": [],
   "source": []
  },
  {
   "cell_type": "code",
   "execution_count": null,
   "metadata": {},
   "outputs": [],
   "source": []
  },
  {
   "cell_type": "code",
   "execution_count": null,
   "metadata": {
    "ExecuteTime": {
     "end_time": "2020-09-18T01:03:48.817146Z",
     "start_time": "2020-09-18T01:03:48.815450Z"
    }
   },
   "outputs": [],
   "source": [
    "a = 4\n",
    "report = \"FAIL\""
   ]
  },
  {
   "cell_type": "markdown",
   "metadata": {
    "variables": {
     "a": "4",
     "report": "FAIL"
    }
   },
   "source": [
    "## Python Markdown -- Maybe doesn't work right now for some reason?\n",
    "\n",
    "The value of a is {{a}}. Useful for anything you want to report, this: {{report}}."
   ]
  },
  {
   "cell_type": "markdown",
   "metadata": {},
   "source": [
    "## Code prettify\n",
    "\n",
    "\n",
    "Copy/paste the following into the \"json defining library calls required to load the kernel-specific prettifying modules, and the prefix & postfix for the json-format string required to make the prettifying call.\" box.\n",
    "\n",
    "```\n",
    "{\n",
    "  \"python\": {\n",
    "    \"library\": \"import json\\ndef black_reformat(cell_text):\\n    import black\\n    import re\\n    cell_text = re.sub('^%', '#%#', cell_text, flags=re.M)\\n    try:\\n        reformated_text = black.format_str(cell_text, 88)\\n    except TypeError:\\n        reformated_text = black.format_str(cell_text, mode=black.FileMode(line_length=88))\\n    return re.sub('^#%#', '%', reformated_text, flags=re.M)\",\n",
    "    \"prefix\": \"print(json.dumps(black_reformat(u\",\n",
    "    \"postfix\": \")))\"\n",
    "  },\n",
    "  \"r\": {\n",
    "    \"library\": \"library(formatR)\\nlibrary(jsonlite)\",\n",
    "    \"prefix\": \"cat(toJSON(paste(tidy_source(text=\",\n",
    "    \"postfix\": \", output=FALSE)[['text.tidy']], collapse='\\n')))\"\n",
    "  },\n",
    "  \"javascript\": {\n",
    "    \"library\": \"jsbeautify = require('js-beautify')\",\n",
    "    \"prefix\": \"console.log(JSON.stringify(jsbeautify.js_beautify(\",\n",
    "    \"postfix\": \")));\"\n",
    "  }\n",
    "}\n",
    "```\n",
    "\n",
    "From: https://neuralcoder.science/Black-Jupyter/"
   ]
  },
  {
   "cell_type": "code",
   "execution_count": null,
   "metadata": {},
   "outputs": [],
   "source": [
    "weight_categories = [    \"vlow_weight\",    \"low_weight\",\n",
    "    \"mid_weight\",    \"high_weight\",\n",
    "    \"vhigh_weight\",]\n",
    "\n",
    "players['weightclass'] = pd.qcut(players['weight'],\n",
    "     len(weight_categories), weight_categories)\n"
   ]
  },
  {
   "cell_type": "code",
   "execution_count": null,
   "metadata": {},
   "outputs": [],
   "source": [
    "weight_categories = [\n",
    "    \"vlow_weight\",\n",
    "    \"low_weight\",\n",
    "    \"mid_weight\",\n",
    "    \"high_weight\",\n",
    "    \"vhigh_weight\",\n",
    "]\n",
    "\n",
    "players[\"weightclass\"] = pd.qcut(\n",
    "    players[\"weight\"], len(weight_categories), weight_categories\n",
    ")"
   ]
  },
  {
   "cell_type": "code",
   "execution_count": null,
   "metadata": {},
   "outputs": [],
   "source": []
  },
  {
   "cell_type": "code",
   "execution_count": null,
   "metadata": {},
   "outputs": [],
   "source": []
  },
  {
   "cell_type": "code",
   "execution_count": null,
   "metadata": {},
   "outputs": [],
   "source": []
  },
  {
   "cell_type": "markdown",
   "metadata": {},
   "source": [
    "## Collapsible Headings"
   ]
  },
  {
   "cell_type": "markdown",
   "metadata": {},
   "source": [
    "## Notify -- disappointing :(\n",
    "\n",
    "In theory, this will give you a browser notification if your kernel has been busy for at least N seconds (after you give permission). "
   ]
  },
  {
   "cell_type": "code",
   "execution_count": null,
   "metadata": {
    "ExecuteTime": {
     "end_time": "2020-09-18T01:08:50.771464Z",
     "start_time": "2020-09-18T01:08:47.294884Z"
    }
   },
   "outputs": [],
   "source": [
    "import time\n",
    "time.sleep(10)"
   ]
  },
  {
   "cell_type": "markdown",
   "metadata": {},
   "source": [
    "# Outside Notebooks"
   ]
  },
  {
   "cell_type": "markdown",
   "metadata": {},
   "source": [
    "## Tree Filter\n",
    "\n",
    "Filtered home screen"
   ]
  },
  {
   "cell_type": "code",
   "execution_count": null,
   "metadata": {},
   "outputs": [],
   "source": []
  },
  {
   "cell_type": "code",
   "execution_count": null,
   "metadata": {},
   "outputs": [],
   "source": []
  },
  {
   "cell_type": "code",
   "execution_count": null,
   "metadata": {},
   "outputs": [],
   "source": []
  },
  {
   "cell_type": "code",
   "execution_count": null,
   "metadata": {},
   "outputs": [],
   "source": []
  },
  {
   "cell_type": "code",
   "execution_count": null,
   "metadata": {},
   "outputs": [],
   "source": []
  },
  {
   "cell_type": "code",
   "execution_count": null,
   "metadata": {},
   "outputs": [],
   "source": []
  },
  {
   "cell_type": "code",
   "execution_count": null,
   "metadata": {},
   "outputs": [],
   "source": []
  },
  {
   "cell_type": "code",
   "execution_count": null,
   "metadata": {},
   "outputs": [],
   "source": []
  },
  {
   "cell_type": "code",
   "execution_count": null,
   "metadata": {},
   "outputs": [],
   "source": []
  },
  {
   "cell_type": "code",
   "execution_count": null,
   "metadata": {},
   "outputs": [],
   "source": []
  },
  {
   "cell_type": "code",
   "execution_count": null,
   "metadata": {},
   "outputs": [],
   "source": []
  }
 ],
 "metadata": {
  "hide_input": false,
  "history": [],
  "kernelspec": {
   "display_name": "dspy3",
   "language": "python",
   "name": "dspy3"
  },
  "language_info": {
   "codemirror_mode": {
    "name": "ipython",
    "version": 3
   },
   "file_extension": ".py",
   "mimetype": "text/x-python",
   "name": "python",
   "nbconvert_exporter": "python",
   "pygments_lexer": "ipython3",
   "version": "3.6.11"
  },
  "notify_time": "5",
  "toc": {
   "base_numbering": 1,
   "nav_menu": {},
   "number_sections": false,
   "sideBar": true,
   "skip_h1_title": false,
   "title_cell": "Table of Contents",
   "title_sidebar": "Contents",
   "toc_cell": true,
   "toc_position": {
    "height": "510px",
    "left": "0px",
    "right": "900px",
    "top": "110px",
    "width": "220px"
   },
   "toc_section_display": false,
   "toc_window_display": false
  },
  "uuid": "4d24fe4e-7b82-4239-b3f3-7180cdd66f21",
  "varInspector": {
   "cols": {
    "lenName": 16,
    "lenType": 16,
    "lenVar": 40
   },
   "kernels_config": {
    "python": {
     "delete_cmd_postfix": "",
     "delete_cmd_prefix": "del ",
     "library": "var_list.py",
     "varRefreshCmd": "print(var_dic_list())"
    },
    "r": {
     "delete_cmd_postfix": ") ",
     "delete_cmd_prefix": "rm(",
     "library": "var_list.r",
     "varRefreshCmd": "cat(var_dic_list()) "
    }
   },
   "position": {
    "height": "313.6px",
    "left": "856.967px",
    "right": "20px",
    "top": "124.983px",
    "width": "404.6px"
   },
   "types_to_exclude": [
    "module",
    "function",
    "builtin_function_or_method",
    "instance",
    "_Feature"
   ],
   "window_display": false
  }
 },
 "nbformat": 4,
 "nbformat_minor": 2
}
