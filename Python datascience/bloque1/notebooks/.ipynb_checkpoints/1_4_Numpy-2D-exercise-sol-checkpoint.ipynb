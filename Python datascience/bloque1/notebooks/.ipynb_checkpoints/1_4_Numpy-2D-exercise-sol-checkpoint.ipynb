{
 "cells": [
  {
   "cell_type": "markdown",
   "metadata": {},
   "source": [
    "# Using NumPy arrays with two-dimensional data"
   ]
  },
  {
   "cell_type": "markdown",
   "metadata": {},
   "source": [
    "## Creating multi-dimensional data"
   ]
  },
  {
   "cell_type": "markdown",
   "metadata": {},
   "source": [
    "You can create bi-dimensional arrays passing a **list of lists** (works also with some other sequence types)."
   ]
  },
  {
   "cell_type": "code",
   "execution_count": 1,
   "metadata": {
    "collapsed": false
   },
   "outputs": [
    {
     "name": "stdout",
     "output_type": "stream",
     "text": [
      "[[ 1  2  3  4]\n",
      " [ 5  6  7  8]\n",
      " [ 9 10 11 12]]\n"
     ]
    }
   ],
   "source": [
    "import numpy as np\n",
    "m = np.array([[1, 2, 3, 4], [5, 6, 7, 8], [9, 10, 11, 12]])\n",
    "print m"
   ]
  },
  {
   "cell_type": "markdown",
   "metadata": {},
   "source": [
    "You can get the dimensions of the array with <code>shape</code>, and the number of dimensions with <code>ndim</code>."
   ]
  },
  {
   "cell_type": "code",
   "execution_count": 2,
   "metadata": {
    "collapsed": false
   },
   "outputs": [
    {
     "name": "stdout",
     "output_type": "stream",
     "text": [
      "(3, 4)\n",
      "2\n"
     ]
    }
   ],
   "source": [
    "print m.shape\n",
    "print m.ndim"
   ]
  },
  {
   "cell_type": "markdown",
   "metadata": {},
   "source": [
    "In the case of using creation functions, you have to pass a tuple with the **shape** you want the array to have."
   ]
  },
  {
   "cell_type": "code",
   "execution_count": 3,
   "metadata": {
    "collapsed": false
   },
   "outputs": [
    {
     "name": "stdout",
     "output_type": "stream",
     "text": [
      "[[ 1.  1.  1.  1.  1.  1.  1.]\n",
      " [ 1.  1.  1.  1.  1.  1.  1.]\n",
      " [ 1.  1.  1.  1.  1.  1.  1.]]\n"
     ]
    }
   ],
   "source": [
    "ones = np.ones((3, 7))\n",
    "print ones"
   ]
  },
  {
   "cell_type": "markdown",
   "metadata": {},
   "source": [
    "And you can use the same functions that with one-dimensional arrays."
   ]
  },
  {
   "cell_type": "code",
   "execution_count": 4,
   "metadata": {
    "collapsed": false
   },
   "outputs": [
    {
     "name": "stdout",
     "output_type": "stream",
     "text": [
      "[[ 2.  2.  2.  2.  2.  2.  2.]\n",
      " [ 2.  2.  2.  2.  2.  2.  2.]\n",
      " [ 2.  2.  2.  2.  2.  2.  2.]]\n"
     ]
    }
   ],
   "source": [
    "ones.fill(2)\n",
    "print ones"
   ]
  },
  {
   "cell_type": "markdown",
   "metadata": {},
   "source": [
    "## Indexing and slicing"
   ]
  },
  {
   "cell_type": "markdown",
   "metadata": {},
   "source": [
    "If you use a single index, you are getting a row. If you index two times, you are indexing a concrete element."
   ]
  },
  {
   "cell_type": "code",
   "execution_count": 5,
   "metadata": {
    "collapsed": false
   },
   "outputs": [
    {
     "name": "stdout",
     "output_type": "stream",
     "text": [
      "[ 9 10 11 12]\n",
      "11\n",
      "11\n"
     ]
    }
   ],
   "source": [
    "print m[2]\n",
    "print m[2][2]\n",
    "print m[2,2]"
   ]
  },
  {
   "cell_type": "markdown",
   "metadata": {},
   "source": [
    "You can slice the array in one or several of the axis."
   ]
  },
  {
   "cell_type": "code",
   "execution_count": 6,
   "metadata": {
    "collapsed": false
   },
   "outputs": [
    {
     "name": "stdout",
     "output_type": "stream",
     "text": [
      "[[ 2.  2.  2.  2.  2.  8.  8.]\n",
      " [ 2.  2.  2.  2.  2.  8.  8.]\n",
      " [ 2.  2.  2.  2.  2.  8.  8.]]\n"
     ]
    }
   ],
   "source": [
    "# We create a view of the data for all the rows (:) and the columns in positions 5 and 6.\n",
    "ones[:,5:7].fill(8)\n",
    "print ones"
   ]
  },
  {
   "cell_type": "code",
   "execution_count": 7,
   "metadata": {
    "collapsed": false
   },
   "outputs": [
    {
     "name": "stdout",
     "output_type": "stream",
     "text": [
      "[[  1   2  30   4]\n",
      " [  5   6  70   8]\n",
      " [  9  10 110  12]]\n",
      "[[  1   2  30   4]\n",
      " [  0   0   0   0]\n",
      " [  9  10 110  12]]\n"
     ]
    }
   ],
   "source": [
    "# Slice array m to get only the third column and multiply the values of that column by 10.\n",
    "m[:, 2] = m[:,2]*10\n",
    "print m\n",
    "\n",
    "# slice the middle row of m and set it to zeros\n",
    "m[1,:] = 0\n",
    "print m"
   ]
  },
  {
   "cell_type": "markdown",
   "metadata": {},
   "source": [
    "You can also index matrices with booleans."
   ]
  },
  {
   "cell_type": "code",
   "execution_count": 8,
   "metadata": {
    "collapsed": false
   },
   "outputs": [
    {
     "name": "stdout",
     "output_type": "stream",
     "text": [
      "[[False False  True False]\n",
      " [False False False False]\n",
      " [False False  True  True]]\n",
      "[ 1  2  4  0  0  0  0  9 10]\n"
     ]
    }
   ],
   "source": [
    "#Generate a boolean matrix with the numbers above 10 in m\n",
    "sel = m >10 \n",
    "print sel\n",
    "\n",
    "# Use the boolean matrix to get an array with the values that are below or equal than 10 in the matrix.\n",
    "a = m[sel == False]\n",
    "print a"
   ]
  },
  {
   "cell_type": "markdown",
   "metadata": {},
   "source": [
    "## Operations in different axis"
   ]
  },
  {
   "cell_type": "markdown",
   "metadata": {},
   "source": [
    "Statistical and other operations can be applied by rows or columns by indicating the **axis**."
   ]
  },
  {
   "cell_type": "code",
   "execution_count": 9,
   "metadata": {
    "collapsed": false
   },
   "outputs": [
    {
     "data": {
      "text/plain": [
       "array([10,  3, 19,  3, 12, 12, 17, 16,  1, 12, 19, 13, 15,  8, 10, 16, 15,\n",
       "       12])"
      ]
     },
     "execution_count": 9,
     "metadata": {},
     "output_type": "execute_result"
    }
   ],
   "source": [
    "mat = np.random.randint(1, 20, 18)\n",
    "mat"
   ]
  },
  {
   "cell_type": "code",
   "execution_count": 10,
   "metadata": {
    "collapsed": false
   },
   "outputs": [
    {
     "data": {
      "text/plain": [
       "array([[10,  3, 19],\n",
       "       [ 3, 12, 12],\n",
       "       [17, 16,  1],\n",
       "       [12, 19, 13],\n",
       "       [15,  8, 10],\n",
       "       [16, 15, 12]])"
      ]
     },
     "execution_count": 10,
     "metadata": {},
     "output_type": "execute_result"
    }
   ],
   "source": [
    "mat = mat.reshape((6,3))\n",
    "mat"
   ]
  },
  {
   "cell_type": "code",
   "execution_count": 11,
   "metadata": {
    "collapsed": false
   },
   "outputs": [
    {
     "data": {
      "text/plain": [
       "213"
      ]
     },
     "execution_count": 11,
     "metadata": {},
     "output_type": "execute_result"
    }
   ],
   "source": [
    "mat.sum()"
   ]
  },
  {
   "cell_type": "code",
   "execution_count": 12,
   "metadata": {
    "collapsed": false
   },
   "outputs": [
    {
     "data": {
      "text/plain": [
       "array([32, 27, 34, 44, 33, 43])"
      ]
     },
     "execution_count": 12,
     "metadata": {},
     "output_type": "execute_result"
    }
   ],
   "source": [
    "mat.sum(axis=1)"
   ]
  },
  {
   "cell_type": "code",
   "execution_count": 13,
   "metadata": {
    "collapsed": false
   },
   "outputs": [
    {
     "data": {
      "text/plain": [
       "array([73, 73, 67])"
      ]
     },
     "execution_count": 13,
     "metadata": {},
     "output_type": "execute_result"
    }
   ],
   "source": [
    "mat.sum(axis=0)"
   ]
  },
  {
   "cell_type": "markdown",
   "metadata": {},
   "source": [
    "## Transposing"
   ]
  },
  {
   "cell_type": "markdown",
   "metadata": {},
   "source": [
    "NumPy arrays can be reshaped easily."
   ]
  },
  {
   "cell_type": "code",
   "execution_count": 14,
   "metadata": {
    "collapsed": false
   },
   "outputs": [
    {
     "name": "stdout",
     "output_type": "stream",
     "text": [
      "(15,)\n",
      "[[ 20.          20.71428571  21.42857143]\n",
      " [ 22.14285714  22.85714286  23.57142857]\n",
      " [ 24.28571429  25.          25.71428571]\n",
      " [ 26.42857143  27.14285714  27.85714286]\n",
      " [ 28.57142857  29.28571429  30.        ]]\n",
      "(5, 3)\n"
     ]
    }
   ],
   "source": [
    "m1 = np.linspace(20,30, 15)\n",
    "print m1.shape\n",
    "m1 = m1.reshape((5, 3)) # You have to pass a tuple\n",
    "print m1\n",
    "print m1.shape"
   ]
  },
  {
   "cell_type": "markdown",
   "metadata": {},
   "source": [
    "You can also transpose a matrix."
   ]
  },
  {
   "cell_type": "code",
   "execution_count": 15,
   "metadata": {
    "collapsed": false
   },
   "outputs": [
    {
     "name": "stdout",
     "output_type": "stream",
     "text": [
      "[[ 20.          22.14285714  24.28571429  26.42857143  28.57142857]\n",
      " [ 20.71428571  22.85714286  25.          27.14285714  29.28571429]\n",
      " [ 21.42857143  23.57142857  25.71428571  27.85714286  30.        ]]\n"
     ]
    }
   ],
   "source": [
    "print m1.T"
   ]
  },
  {
   "cell_type": "markdown",
   "metadata": {},
   "source": [
    "## Plotting"
   ]
  },
  {
   "cell_type": "markdown",
   "metadata": {},
   "source": [
    "Plotting by default takes each row of a matrix as an independent series of data."
   ]
  },
  {
   "cell_type": "code",
   "execution_count": 16,
   "metadata": {
    "collapsed": false
   },
   "outputs": [
    {
     "data": {
      "text/plain": [
       "{'boxes': [<matplotlib.lines.Line2D at 0x105686750>,\n",
       "  <matplotlib.lines.Line2D at 0x1056b5410>,\n",
       "  <matplotlib.lines.Line2D at 0x1056d5050>],\n",
       " 'caps': [<matplotlib.lines.Line2D at 0x10569c710>,\n",
       "  <matplotlib.lines.Line2D at 0x10569cd50>,\n",
       "  <matplotlib.lines.Line2D at 0x1056be350>,\n",
       "  <matplotlib.lines.Line2D at 0x1056be990>,\n",
       "  <matplotlib.lines.Line2D at 0x1056d5f50>,\n",
       "  <matplotlib.lines.Line2D at 0x1056e05d0>],\n",
       " 'fliers': [<matplotlib.lines.Line2D at 0x1056a8a10>,\n",
       "  <matplotlib.lines.Line2D at 0x1056ca650>,\n",
       "  <matplotlib.lines.Line2D at 0x1056ec290>],\n",
       " 'means': [],\n",
       " 'medians': [<matplotlib.lines.Line2D at 0x1056a83d0>,\n",
       "  <matplotlib.lines.Line2D at 0x1056befd0>,\n",
       "  <matplotlib.lines.Line2D at 0x1056e0c10>],\n",
       " 'whiskers': [<matplotlib.lines.Line2D at 0x1056869d0>,\n",
       "  <matplotlib.lines.Line2D at 0x10569c0d0>,\n",
       "  <matplotlib.lines.Line2D at 0x1056b5690>,\n",
       "  <matplotlib.lines.Line2D at 0x1056b5cd0>,\n",
       "  <matplotlib.lines.Line2D at 0x1056d52d0>,\n",
       "  <matplotlib.lines.Line2D at 0x1056d5910>]}"
      ]
     },
     "execution_count": 16,
     "metadata": {},
     "output_type": "execute_result"
    },
    {
     "data": {
      "image/png": "[encoded data removed]",
      "text/plain": [
       "<matplotlib.figure.Figure at 0x1054b4f50>"
      ]
     },
     "metadata": {},
     "output_type": "display_data"
    }
   ],
   "source": [
    "import matplotlib.pyplot as plt\n",
    "%matplotlib inline\n",
    "plt.boxplot(m1)"
   ]
  },
  {
   "cell_type": "code",
   "execution_count": null,
   "metadata": {
    "collapsed": false
   },
   "outputs": [],
   "source": []
  }
 ],
 "metadata": {
  "kernelspec": {
   "display_name": "Python 2",
   "language": "python",
   "name": "python2"
  },
  "language_info": {
   "codemirror_mode": {
    "name": "ipython",
    "version": 2
   },
   "file_extension": ".py",
   "mimetype": "text/x-python",
   "name": "python",
   "nbconvert_exporter": "python",
   "pygments_lexer": "ipython2",
   "version": "2.7.10"
  }
 },
 "nbformat": 4,
 "nbformat_minor": 0
}
