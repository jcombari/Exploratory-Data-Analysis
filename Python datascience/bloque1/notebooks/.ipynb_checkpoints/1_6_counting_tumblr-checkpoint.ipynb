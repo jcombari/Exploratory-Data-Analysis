{
 "cells": [
  {
   "cell_type": "markdown",
   "metadata": {},
   "source": [
    "##Tipos de posts en Tumblr"
   ]
  },
  {
   "cell_type": "markdown",
   "metadata": {},
   "source": [
    "La bibliotecas pytumblr es la \"oficial\" de la red social para el lenguaje Python. Más información aquí: https://github.com/tumblr/pytumblr"
   ]
  },
  {
   "cell_type": "code",
   "execution_count": 1,
   "metadata": {
    "collapsed": true
   },
   "outputs": [],
   "source": [
    "import pytumblr"
   ]
  },
  {
   "cell_type": "markdown",
   "metadata": {},
   "source": [
    "Como solo vamos a extraer posts taggeados, no hace falta autenticación, basta con una consumer key que temdremos que obtener creando antes una cuenta en Tumblr y solicitando una aplicación."
   ]
  },
  {
   "cell_type": "code",
   "execution_count": 2,
   "metadata": {
    "collapsed": true
   },
   "outputs": [],
   "source": [
    "apikey = \"FEe2Qt1CS2Z6ZSFsU4KUgGfHNgcGIXfUOoELZjyxpZJFtjS203\"\n",
    "client = pytumblr.TumblrRestClient(consumer_key=apikey)"
   ]
  },
  {
   "cell_type": "markdown",
   "metadata": {},
   "source": [
    "Probamos el tipo de datos que nos devuelve la recuperación por tags. "
   ]
  },
  {
   "cell_type": "code",
   "execution_count": 3,
   "metadata": {
    "collapsed": false
   },
   "outputs": [
    {
     "name": "stdout",
     "output_type": "stream",
     "text": [
      "<type 'dict'>\n"
     ]
    },
    {
     "data": {
      "text/plain": [
       "{u'blog_name': u'enigmaticslytherin',\n",
       " u'body': u'<p>There are two types of people: </p>\\n\\n<p>1. When hear an unfamiliar word, they simply say &ldquo;What does that mean? Is that even English? Never heard of it. I need cookies now&rdquo; </p>\\n\\n<p>2. When hear an unfamiliar word, they dive into a dictionary or wikipedia and learn everything about it while eating cookies.</p>',\n",
       " u'date': u'2015-10-28 13:28:51 GMT',\n",
       " u'format': u'html',\n",
       " u'highlighted': [],\n",
       " u'id': 132081675992,\n",
       " u'note_count': 0,\n",
       " u'post_url': u'http://enigmaticslytherin.tumblr.com/post/132081675992/two-types-of-people',\n",
       " u'reblog': {u'comment': u'<p>There are two types of people: </p>\\n\\n<p>1. When hear an unfamiliar word, they simply say \\u201cWhat does that mean? Is that even English? Never heard of it. I need cookies now\\u201d </p>\\n\\n<p>2. When hear an unfamiliar word, they dive into a dictionary or wikipedia and learn everything about it while eating cookies.</p>',\n",
       "  u'tree_html': u''},\n",
       " u'reblog_key': u'hnOnAFx1',\n",
       " u'recommended_color': None,\n",
       " u'recommended_source': None,\n",
       " u'short_url': u'http://tmblr.co/ZLfCAo1x0hcxO',\n",
       " u'slug': u'two-types-of-people',\n",
       " u'state': u'published',\n",
       " u'tags': [u'people', u'random', u'wordlove', u'nerd', u'lol', u'cookies'],\n",
       " u'timestamp': 1446038931,\n",
       " u'title': u'Two types of people',\n",
       " u'trail': [{u'blog': {u'active': True,\n",
       "    u'name': u'enigmaticslytherin',\n",
       "    u'theme': {u'avatar_shape': u'circle',\n",
       "     u'background_color': u'#050505',\n",
       "     u'body_font': u'Calluna',\n",
       "     u'header_bounds': u'',\n",
       "     u'header_image': u'http://static.tumblr.com/f7e49a1e1f24d6582d2495f978196ffc/agvh4o3/Cx6nwgt1g/tumblr_static_filename.jpg',\n",
       "     u'header_image_focused': u'http://static.tumblr.com/f7e49a1e1f24d6582d2495f978196ffc/agvh4o3/Cx6nwgt1g/tumblr_static_filename_2048_v2.jpg',\n",
       "     u'header_image_scaled': u'http://static.tumblr.com/f7e49a1e1f24d6582d2495f978196ffc/agvh4o3/Cx6nwgt1g/tumblr_static_filename_2048_v2.jpg',\n",
       "     u'header_stretch': True,\n",
       "     u'link_color': u'#6bc3f9',\n",
       "     u'show_avatar': True,\n",
       "     u'show_description': True,\n",
       "     u'show_header_image': True,\n",
       "     u'show_title': True,\n",
       "     u'title_color': u'#5289DB',\n",
       "     u'title_font': u'Typewriter FS',\n",
       "     u'title_font_weight': u'bold'}},\n",
       "   u'content': u'<p>There are two types of people: </p>\\n\\n<p>1. When hear an unfamiliar word, they simply say \\u201cWhat does that mean? Is that even English? Never heard of it. I need cookies now\\u201d </p>\\n\\n<p>2. When hear an unfamiliar word, they dive into a dictionary or wikipedia and learn everything about it while eating cookies.</p>',\n",
       "   u'content_raw': u'<p>There are two types of people: </p>\\n\\n<p>1. When hear an unfamiliar word, they simply say \\u201cWhat does that mean? Is that even English? Never heard of it. I need cookies now\\u201d </p>\\n\\n<p>2. When hear an unfamiliar word, they dive into a dictionary or wikipedia and learn everything about it while eating cookies.</p>',\n",
       "   u'is_current_item': True,\n",
       "   u'is_root_item': True,\n",
       "   u'post': {u'id': 132081675992}}],\n",
       " u'type': u'text'}"
      ]
     },
     "execution_count": 3,
     "metadata": {},
     "output_type": "execute_result"
    }
   ],
   "source": [
    "# Prueba, imprimimos el primero de la lista que nos devuelve.\n",
    "post = client.tagged(\"random\")[1]\n",
    "print type(post)\n",
    "post"
   ]
  },
  {
   "cell_type": "markdown",
   "metadata": {},
   "source": [
    "Ahora vamos a sacar muestras de posts sucesivas para analizar los tipos."
   ]
  },
  {
   "cell_type": "code",
   "execution_count": 4,
   "metadata": {
    "collapsed": false
   },
   "outputs": [],
   "source": [
    "samplingtimes = 10"
   ]
  },
  {
   "cell_type": "markdown",
   "metadata": {},
   "source": [
    "Y almacenaremos los tipos de los posts en una matriz."
   ]
  },
  {
   "cell_type": "code",
   "execution_count": 5,
   "metadata": {
    "collapsed": false
   },
   "outputs": [],
   "source": [
    "import numpy as np\n",
    "data = np.matrix([])\n",
    "# 20 columnas, porque Tumblr devuelve grupos de 20.\n",
    "data.shape=(0, 20)"
   ]
  },
  {
   "cell_type": "code",
   "execution_count": 14,
   "metadata": {
    "collapsed": false
   },
   "outputs": [
    {
     "name": "stdout",
     "output_type": "stream",
     "text": [
      "[u'photo', u'text', u'photo', u'text', u'photo', u'photo', u'text', u'quote', u'text', u'photo', u'photo', u'photo', u'photo', u'photo', u'photo', u'photo', u'quote', u'text', u'photo', u'photo']\n",
      "[u'text', u'photo', u'photo', u'text', u'text', u'text', u'photo', u'text', u'text', u'photo', u'text', u'photo', u'text', u'photo', u'text', u'photo', u'text', u'photo', u'text', u'text']\n",
      "[u'text', u'photo', u'photo', u'quote', u'quote', u'text', u'quote', u'photo', u'text', u'text', u'text', u'text', u'text', u'photo', u'text', u'text', u'link', u'photo', u'quote', u'text']\n",
      "[u'quote', u'photo', u'quote', u'text', u'text', u'text', u'text', u'photo', u'text', u'text', u'photo', u'photo', u'text', u'photo', u'photo', u'photo', u'photo', u'text', u'text', u'text']\n",
      "[u'quote', u'photo', u'photo', u'photo', u'photo', u'photo', u'text', u'text', u'text', u'text', u'video', u'photo', u'text', u'photo', u'text', u'photo', u'photo', u'photo', u'photo', u'photo']\n",
      "[u'photo', u'text', u'text', u'photo', u'photo', u'photo', u'text', u'text', u'photo', u'photo', u'photo', u'photo', u'quote', u'text', u'text', u'text', u'video', u'photo', u'photo', u'text']\n",
      "[u'photo', u'photo', u'photo', u'photo', u'photo', u'photo', u'photo', u'photo', u'photo', u'answer', u'photo', u'photo', u'photo', u'text', u'text', u'chat', u'photo', u'photo', u'photo', u'text']\n",
      "[u'photo', u'text', u'text', u'photo', u'link', u'photo', u'text', u'text', u'photo', u'text', u'text', u'photo', u'photo', u'photo', u'photo', u'photo', u'text', u'photo', u'photo', u'text']\n",
      "[u'text', u'photo', u'photo', u'text', u'photo', u'photo', u'photo', u'text', u'text', u'text', u'photo', u'photo', u'photo', u'text', u'text', u'text', u'photo', u'quote', u'photo', u'quote']\n",
      "[u'text', u'photo', u'photo', u'photo', u'text', u'text', u'photo', u'photo', u'text', u'text', u'text', u'photo', u'photo', u'photo', u'text', u'photo', u'photo', u'photo', u'text', u'photo']\n"
     ]
    }
   ],
   "source": [
    "\n",
    "before = None # Para controlar que sacamos grupos diferentes de posts.\n",
    "\n",
    "for i in range(0, samplingtimes):\n",
    "    if before is None:\n",
    "        posts = client.tagged(\"random\")\n",
    "    else:\n",
    "        posts = client.tagged(\"random\", before=before)\n",
    "    # Tomamos los tipos de post y las marcas temporales:\n",
    "    types = []\n",
    "    timestamps = []\n",
    "    for p in posts:\n",
    "        types.append(p[\"type\"])\n",
    "        timestamps.append(p[\"timestamp\"])\n",
    "    print types\n",
    "    # Sacamos la marca temporal más antigua:\n",
    "    before = min(timestamps)\n",
    "    data = np.vstack([data, np.array(types)])    "
   ]
  },
  {
   "cell_type": "code",
   "execution_count": 15,
   "metadata": {
    "collapsed": false
   },
   "outputs": [
    {
     "data": {
      "text/plain": [
       "matrix([[u'text', u'text', u'text', u'photo', u'text', u'text', u'photo',\n",
       "         u'text', u'text', u'photo', u'text', u'photo', u'text', u'photo',\n",
       "         u'photo', u'photo', u'text', u'text', u'text', u'photo'],\n",
       "        [u'photo', u'quote', u'quote', u'text', u'quote', u'photo', u'text',\n",
       "         u'text', u'text', u'text', u'text', u'photo', u'text', u'text',\n",
       "         u'link', u'photo', u'quote', u'text', u'photo', u'text'],\n",
       "        [u'text', u'text', u'text', u'photo', u'text', u'text', u'photo',\n",
       "         u'photo', u'text', u'photo', u'photo', u'photo', u'photo', u'text',\n",
       "         u'text', u'text', u'quote', u'photo', u'photo', u'photo'],\n",
       "        [u'photo', u'photo', u'text', u'text', u'text', u'text', u'video',\n",
       "         u'photo', u'text', u'photo', u'text', u'photo', u'photo', u'photo',\n",
       "         u'photo', u'photo', u'photo', u'text', u'text', u'photo'],\n",
       "        [u'photo', u'photo', u'text', u'text', u'photo', u'photo', u'photo',\n",
       "         u'photo', u'quote', u'text', u'text', u'text', u'video', u'photo',\n",
       "         u'photo', u'text', u'photo', u'photo', u'photo', u'photo'],\n",
       "        [u'photo', u'photo', u'photo', u'photo', u'photo', u'answer',\n",
       "         u'photo', u'photo', u'photo', u'text', u'text', u'chat', u'photo',\n",
       "         u'photo', u'photo', u'text', u'photo', u'text', u'text', u'photo'],\n",
       "        [u'link', u'photo', u'text', u'text', u'photo', u'text', u'text',\n",
       "         u'photo', u'photo', u'photo', u'photo', u'photo', u'text',\n",
       "         u'photo', u'photo', u'text', u'text', u'photo', u'photo', u'text'],\n",
       "        [u'photo', u'photo', u'photo', u'text', u'text', u'text', u'photo',\n",
       "         u'photo', u'photo', u'text', u'text', u'text', u'photo', u'quote',\n",
       "         u'photo', u'quote', u'text', u'photo', u'photo', u'photo'],\n",
       "        [u'text', u'text', u'photo', u'photo', u'text', u'text', u'text',\n",
       "         u'photo', u'photo', u'photo', u'text', u'photo', u'photo',\n",
       "         u'photo', u'text', u'photo', u'text', u'chat', u'photo', u'photo'],\n",
       "        [u'photo', u'photo', u'text', u'text', u'photo', u'photo', u'photo',\n",
       "         u'text', u'text', u'quote', u'quote', u'photo', u'photo', u'photo',\n",
       "         u'photo', u'quote', u'photo', u'text', u'text', u'text'],\n",
       "        [u'photo', u'text', u'photo', u'text', u'photo', u'photo', u'text',\n",
       "         u'quote', u'text', u'photo', u'photo', u'photo', u'photo',\n",
       "         u'photo', u'photo', u'photo', u'quote', u'text', u'photo', u'photo'],\n",
       "        [u'text', u'photo', u'photo', u'text', u'text', u'text', u'photo',\n",
       "         u'text', u'text', u'photo', u'text', u'photo', u'text', u'photo',\n",
       "         u'text', u'photo', u'text', u'photo', u'text', u'text'],\n",
       "        [u'text', u'photo', u'photo', u'quote', u'quote', u'text', u'quote',\n",
       "         u'photo', u'text', u'text', u'text', u'text', u'text', u'photo',\n",
       "         u'text', u'text', u'link', u'photo', u'quote', u'text'],\n",
       "        [u'quote', u'photo', u'quote', u'text', u'text', u'text', u'text',\n",
       "         u'photo', u'text', u'text', u'photo', u'photo', u'text', u'photo',\n",
       "         u'photo', u'photo', u'photo', u'text', u'text', u'text'],\n",
       "        [u'quote', u'photo', u'photo', u'photo', u'photo', u'photo',\n",
       "         u'text', u'text', u'text', u'text', u'video', u'photo', u'text',\n",
       "         u'photo', u'text', u'photo', u'photo', u'photo', u'photo', u'photo'],\n",
       "        [u'photo', u'text', u'text', u'photo', u'photo', u'photo', u'text',\n",
       "         u'text', u'photo', u'photo', u'photo', u'photo', u'quote', u'text',\n",
       "         u'text', u'text', u'video', u'photo', u'photo', u'text'],\n",
       "        [u'photo', u'photo', u'photo', u'photo', u'photo', u'photo',\n",
       "         u'photo', u'photo', u'photo', u'answer', u'photo', u'photo',\n",
       "         u'photo', u'text', u'text', u'chat', u'photo', u'photo', u'photo',\n",
       "         u'text'],\n",
       "        [u'photo', u'text', u'text', u'photo', u'link', u'photo', u'text',\n",
       "         u'text', u'photo', u'text', u'text', u'photo', u'photo', u'photo',\n",
       "         u'photo', u'photo', u'text', u'photo', u'photo', u'text'],\n",
       "        [u'text', u'photo', u'photo', u'text', u'photo', u'photo', u'photo',\n",
       "         u'text', u'text', u'text', u'photo', u'photo', u'photo', u'text',\n",
       "         u'text', u'text', u'photo', u'quote', u'photo', u'quote'],\n",
       "        [u'text', u'photo', u'photo', u'photo', u'text', u'text', u'photo',\n",
       "         u'photo', u'text', u'text', u'text', u'photo', u'photo', u'photo',\n",
       "         u'text', u'photo', u'photo', u'photo', u'text', u'photo']], \n",
       "       dtype='<U32')"
      ]
     },
     "execution_count": 15,
     "metadata": {},
     "output_type": "execute_result"
    }
   ],
   "source": [
    "data"
   ]
  },
  {
   "cell_type": "code",
   "execution_count": 8,
   "metadata": {
    "collapsed": false
   },
   "outputs": [
    {
     "data": {
      "text/plain": [
       "(10, 20)"
      ]
     },
     "execution_count": 8,
     "metadata": {},
     "output_type": "execute_result"
    }
   ],
   "source": [
    "data.shape"
   ]
  },
  {
   "cell_type": "markdown",
   "metadata": {},
   "source": [
    "Podemos ahora con <code>unique()</code> obtener las diferentes etiquetas que han salido en la muestra (no necesariamente todos los valores de Tumblr)"
   ]
  },
  {
   "cell_type": "code",
   "execution_count": 9,
   "metadata": {
    "collapsed": false
   },
   "outputs": [
    {
     "data": {
      "text/plain": [
       "array([u'answer', u'chat', u'link', u'photo', u'quote', u'text', u'video'], \n",
       "      dtype='<U32')"
      ]
     },
     "execution_count": 9,
     "metadata": {},
     "output_type": "execute_result"
    }
   ],
   "source": [
    "labels = np.unique(np.array(data))\n",
    "labels"
   ]
  },
  {
   "cell_type": "markdown",
   "metadata": {},
   "source": [
    "###Contando los diferentes tipos"
   ]
  },
  {
   "cell_type": "code",
   "execution_count": 13,
   "metadata": {
    "collapsed": false
   },
   "outputs": [
    {
     "name": "stdout",
     "output_type": "stream",
     "text": [
      "[1, 2, 2, 102, 11, 80, 2] 200\n",
      "[ 0.005  0.01   0.01   0.51   0.055  0.4    0.01 ]\n"
     ]
    }
   ],
   "source": [
    "counts = []\n",
    "for t in labels:\n",
    "    valores = data[data == t]\n",
    "    cuenta = valores.size  # Cuidado, no utilizar len()\n",
    "    counts = counts + [cuenta]\n",
    "    \n",
    "\n",
    "print counts, sum(counts)\n",
    "print np.array(counts) / float(sum(counts))    "
   ]
  },
  {
   "cell_type": "markdown",
   "metadata": {},
   "source": [
    "###Ejercicios propuestos"
   ]
  },
  {
   "cell_type": "markdown",
   "metadata": {},
   "source": [
    "1. Supongamos que contamos la proporción de los posts de tipo \"photo\" contra el total de los posts de cada extracción de Tumblr. Cada extracción tendría un valor de esta proporción que lógicamente no sería el mismo. Si tomamos las proporciones para las <code>samplingtimes</code> extracciones, tendríamos un array de proporciones. Intenta extraerlo y dibujar su histograma y distribución de densidad para diferentes valores de <code>samplingtimes</code>. ¿A qué distribución se parece? ¿Qué teorema fundamental de la estadística estamos observando?\n",
    "2. Utilizando funciones en scipy.stats, calcula la probabilidad de que tomando 100 posts de Tumblr, haya 80 que sean de tipo \"photo\", considerando el resto como un segundo tipo globalmente. Puedes utilizar las técnicas anteriores para estimar las probabilidades (la proporción de un tipo respecto al resto). \n",
    "3. Toma muestras de Tumblr y dibuja las frecuencias de aparición de los tags. "
   ]
  },
  {
   "cell_type": "markdown",
   "metadata": {
    "collapsed": true
   },
   "source": []
  },
  {
   "cell_type": "code",
   "execution_count": null,
   "metadata": {
    "collapsed": true
   },
   "outputs": [],
   "source": []
  }
 ],
 "metadata": {
  "kernelspec": {
   "display_name": "Python 2",
   "language": "python",
   "name": "python2"
  },
  "language_info": {
   "codemirror_mode": {
    "name": "ipython",
    "version": 2
   },
   "file_extension": ".py",
   "mimetype": "text/x-python",
   "name": "python",
   "nbconvert_exporter": "python",
   "pygments_lexer": "ipython2",
   "version": "2.7.10"
  }
 },
 "nbformat": 4,
 "nbformat_minor": 0
}
