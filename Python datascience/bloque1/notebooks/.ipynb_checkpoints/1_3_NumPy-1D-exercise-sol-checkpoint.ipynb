{
 "cells": [
  {
   "cell_type": "markdown",
   "metadata": {},
   "source": [
    "# Using NumPy arrays with one-dimensional data"
   ]
  },
  {
   "cell_type": "markdown",
   "metadata": {},
   "source": [
    "## What is NumPy? "
   ]
  },
  {
   "cell_type": "markdown",
   "metadata": {},
   "source": [
    "Numerical Python (NumPy) is a Python library providing a fast and space-efficient data structure: the <code>ndarray</code>, a **homogeneous** array structure, indexed with integers.\n",
    "The official documentation is <a href=\"http://www.numpy.org/\">here</a>."
   ]
  },
  {
   "cell_type": "markdown",
   "metadata": {},
   "source": [
    "## Creating arrays"
   ]
  },
  {
   "cell_type": "markdown",
   "metadata": {},
   "source": [
    "You can create an empty array. Simply import numpy and use following constructors: <code>array</code>, <code>arange</code>, <code>ones</code>, <code>zeros</code> or <code>empty</code>. "
   ]
  },
  {
   "cell_type": "code",
   "execution_count": 12,
   "metadata": {
    "collapsed": false
   },
   "outputs": [
    {
     "name": "stdout",
     "output_type": "stream",
     "text": [
      "[10  5  6  8 -2]\n",
      "[10  5  6  9 -2]\n"
     ]
    }
   ],
   "source": [
    "import numpy as np # Everybody uses np as shorthand...\n",
    "# Now we can create arrays from any sequence-like object:\n",
    "L = [10, 5, 6, 8, -2]\n",
    "T = (10, 5, 6, 9, -2)\n",
    "a = np.array(L)\n",
    "b = np.array(T)\n",
    "print a\n",
    "print b\n"
   ]
  },
  {
   "cell_type": "code",
   "execution_count": 13,
   "metadata": {
    "collapsed": false
   },
   "outputs": [
    {
     "data": {
      "text/plain": [
       "array([ 0.,  0.,  0.,  0.,  0.,  0.,  0.,  0.,  0.,  0.])"
      ]
     },
     "execution_count": 13,
     "metadata": {},
     "output_type": "execute_result"
    }
   ],
   "source": [
    "# If you create it with empty, the values are arbitrary (not random, not necessarily zero).\n",
    "nothing = np.empty(10)\n",
    "nothing"
   ]
  },
  {
   "cell_type": "markdown",
   "metadata": {},
   "source": [
    "You can create arrays based on the lenght of other arrays, e.g. with the <code>ones_like</code> function."
   ]
  },
  {
   "cell_type": "code",
   "execution_count": 14,
   "metadata": {
    "collapsed": false
   },
   "outputs": [
    {
     "data": {
      "text/plain": [
       "array([1, 1, 1, 1, 1, 1, 1])"
      ]
     },
     "execution_count": 14,
     "metadata": {},
     "output_type": "execute_result"
    }
   ],
   "source": [
    "#TODO: Create an array of ones with the same lenght as this one:\n",
    "L = [2, 3, 4, 6, 4, 3, 2]\n",
    "b = np.ones(len(L))\n",
    "a = np.ones_like(L)\n",
    "a"
   ]
  },
  {
   "cell_type": "markdown",
   "metadata": {},
   "source": [
    "You can also create ranges with <code>arange</code>."
   ]
  },
  {
   "cell_type": "code",
   "execution_count": 15,
   "metadata": {
    "collapsed": false
   },
   "outputs": [
    {
     "data": {
      "text/plain": [
       "array([200, 202, 204, 206, 208, 210, 212, 214, 216, 218, 220, 222, 224,\n",
       "       226, 228, 230, 232, 234, 236, 238, 240, 242, 244, 246, 248, 250])"
      ]
     },
     "execution_count": 15,
     "metadata": {},
     "output_type": "execute_result"
    }
   ],
   "source": [
    "# Create an array with the even numbers \n",
    "# between (and including) 200 and 250.\n",
    "a = np.arange(200, 251, 2)\n",
    "a"
   ]
  },
  {
   "cell_type": "markdown",
   "metadata": {},
   "source": [
    "The function <a href=\"http://docs.scipy.org/doc/numpy/reference/generated/numpy.linspace.html\">linspace</a> allows for controlling the amount of numbers to generate."
   ]
  },
  {
   "cell_type": "code",
   "execution_count": 16,
   "metadata": {
    "collapsed": false
   },
   "outputs": [
    {
     "data": {
      "text/plain": [
       "array([ 2.  ,  2.25,  2.5 ,  2.75,  3.  ])"
      ]
     },
     "execution_count": 16,
     "metadata": {},
     "output_type": "execute_result"
    }
   ],
   "source": [
    "np.linspace(2.0, 3.0, num=5)"
   ]
  },
  {
   "cell_type": "markdown",
   "metadata": {},
   "source": [
    "## Arrays have types"
   ]
  },
  {
   "cell_type": "markdown",
   "metadata": {},
   "source": [
    "The <code>dtype</code> attribut of an array returns the type of its elements."
   ]
  },
  {
   "cell_type": "code",
   "execution_count": 17,
   "metadata": {
    "collapsed": false
   },
   "outputs": [
    {
     "name": "stdout",
     "output_type": "stream",
     "text": [
      "<type 'numpy.float64'>\n",
      "[ 1.  1.  1.  1.  1.]\n",
      "float64\n",
      "8\n"
     ]
    }
   ],
   "source": [
    "ones = np.ones(5)\n",
    "print type(ones[0])\n",
    "print ones\n",
    "print ones.dtype\n",
    "print ones.itemsize"
   ]
  },
  {
   "cell_type": "markdown",
   "metadata": {},
   "source": [
    "NumPy arrays have a single element type for all its values. "
   ]
  },
  {
   "cell_type": "code",
   "execution_count": 18,
   "metadata": {
    "collapsed": false
   },
   "outputs": [
    {
     "name": "stdout",
     "output_type": "stream",
     "text": [
      "float64\n"
     ]
    }
   ],
   "source": [
    "L = [1, 4.6, 5]\n",
    "a = np.array(L)\n",
    "print a.dtype"
   ]
  },
  {
   "cell_type": "markdown",
   "metadata": {},
   "source": [
    "We can **explicitly** indicate the type we want for a NumPy array."
   ]
  },
  {
   "cell_type": "code",
   "execution_count": 19,
   "metadata": {
    "collapsed": false
   },
   "outputs": [
    {
     "name": "stdout",
     "output_type": "stream",
     "text": [
      "int32\n",
      "[1 4 5]\n"
     ]
    }
   ],
   "source": [
    "#What happened with the numbers? \n",
    "L = [1, 4.6, 5]\n",
    "a = np.array(L, dtype=\"int32\")\n",
    "print a.dtype\n",
    "print a"
   ]
  },
  {
   "cell_type": "markdown",
   "metadata": {},
   "source": [
    "NumPy element types are not the same as the standard data types of Python. "
   ]
  },
  {
   "cell_type": "code",
   "execution_count": 20,
   "metadata": {
    "collapsed": false
   },
   "outputs": [
    {
     "name": "stdout",
     "output_type": "stream",
     "text": [
      "|S5\n"
     ]
    }
   ],
   "source": [
    "L = [\"this\", \"is\", \"an\", \"array\"]\n",
    "a = np.array(L)\n",
    "print a.dtype\n",
    "#TODO: Now interpret the type... look in the documentation of NumPy data types. "
   ]
  },
  {
   "cell_type": "markdown",
   "metadata": {},
   "source": [
    "You can convert the type of an array using <code>as_type</code> operation."
   ]
  },
  {
   "cell_type": "code",
   "execution_count": 21,
   "metadata": {
    "collapsed": false
   },
   "outputs": [
    {
     "name": "stdout",
     "output_type": "stream",
     "text": [
      "[5 4 3]\n"
     ]
    },
    {
     "ename": "ValueError",
     "evalue": "invalid literal for int() with base 10: 'nan'",
     "output_type": "error",
     "traceback": [
      "\u001b[0;31m---------------------------------------------------------------------------\u001b[0m",
      "\u001b[0;31mValueError\u001b[0m                                Traceback (most recent call last)",
      "\u001b[0;32m<ipython-input-21-05d64c547bd1>\u001b[0m in \u001b[0;36m<module>\u001b[0;34m()\u001b[0m\n\u001b[1;32m      6\u001b[0m \u001b[0;31m#Try to convert this array of strings to some kind of integer array:\u001b[0m\u001b[0;34m\u001b[0m\u001b[0;34m\u001b[0m\u001b[0m\n\u001b[1;32m      7\u001b[0m \u001b[0ma\u001b[0m \u001b[0;34m=\u001b[0m \u001b[0mnp\u001b[0m\u001b[0;34m.\u001b[0m\u001b[0marray\u001b[0m\u001b[0;34m(\u001b[0m\u001b[0;34m[\u001b[0m\u001b[0;34m\"23\"\u001b[0m\u001b[0;34m,\u001b[0m \u001b[0;34m\"12\"\u001b[0m\u001b[0;34m,\u001b[0m \u001b[0;34m\"nan\"\u001b[0m\u001b[0;34m,\u001b[0m \u001b[0;34m\"32\"\u001b[0m\u001b[0;34m,\u001b[0m \u001b[0;34m\"10s\"\u001b[0m\u001b[0;34m]\u001b[0m\u001b[0;34m)\u001b[0m\u001b[0;34m\u001b[0m\u001b[0m\n\u001b[0;32m----> 8\u001b[0;31m \u001b[0mb\u001b[0m \u001b[0;34m=\u001b[0m \u001b[0ma\u001b[0m\u001b[0;34m.\u001b[0m\u001b[0mastype\u001b[0m\u001b[0;34m(\u001b[0m\u001b[0mnp\u001b[0m\u001b[0;34m.\u001b[0m\u001b[0mint32\u001b[0m\u001b[0;34m)\u001b[0m\u001b[0;34m\u001b[0m\u001b[0m\n\u001b[0m",
      "\u001b[0;31mValueError\u001b[0m: invalid literal for int() with base 10: 'nan'"
     ]
    }
   ],
   "source": [
    "#Convert form float to int with astype:\n",
    "a = np.array([5.7, 4.2, 3.0])\n",
    "b = a.astype(np.int32)\n",
    "print b\n",
    "\n",
    "#Try to convert this array of strings to some kind of integer array:\n",
    "a = np.array([\"23\", \"12\", \"nan\", \"32\", \"10s\"])\n",
    "b = a.astype(np.int32)"
   ]
  },
  {
   "cell_type": "markdown",
   "metadata": {},
   "source": [
    "## Vectorization!"
   ]
  },
  {
   "cell_type": "markdown",
   "metadata": {},
   "source": [
    "In general, operations of arrays with scalars are **vectorized**, i.e. they are applied to each element."
   ]
  },
  {
   "cell_type": "code",
   "execution_count": 22,
   "metadata": {
    "collapsed": false
   },
   "outputs": [
    {
     "name": "stdout",
     "output_type": "stream",
     "text": [
      "[ 2.  2.  2.  2.  2.  2.  2.  2.  2.  2.]\n"
     ]
    }
   ],
   "source": [
    "x = np.ones(10)\n",
    "x = x*2\n",
    "print x"
   ]
  },
  {
   "cell_type": "markdown",
   "metadata": {},
   "source": [
    "And if we apply operation between arrays of the same shape (size) they are applied element-wise."
   ]
  },
  {
   "cell_type": "code",
   "execution_count": 23,
   "metadata": {
    "collapsed": false
   },
   "outputs": [
    {
     "data": {
      "text/plain": [
       "array([ 3.,  3.,  3.,  3.,  3.,  3.,  3.,  3.,  3.,  3.])"
      ]
     },
     "execution_count": 23,
     "metadata": {},
     "output_type": "execute_result"
    }
   ],
   "source": [
    "y = np.ones(10)\n",
    "y+x"
   ]
  },
  {
   "cell_type": "code",
   "execution_count": 24,
   "metadata": {
    "collapsed": false
   },
   "outputs": [
    {
     "ename": "ValueError",
     "evalue": "operands could not be broadcast together with shapes (10,) (5,) ",
     "output_type": "error",
     "traceback": [
      "\u001b[0;31m---------------------------------------------------------------------------\u001b[0m",
      "\u001b[0;31mValueError\u001b[0m                                Traceback (most recent call last)",
      "\u001b[0;32m<ipython-input-24-43e069923f90>\u001b[0m in \u001b[0;36m<module>\u001b[0;34m()\u001b[0m\n\u001b[1;32m      1\u001b[0m \u001b[0;31m# Arrays need to be same size:\u001b[0m\u001b[0;34m\u001b[0m\u001b[0;34m\u001b[0m\u001b[0m\n\u001b[1;32m      2\u001b[0m \u001b[0mz\u001b[0m \u001b[0;34m=\u001b[0m \u001b[0mnp\u001b[0m\u001b[0;34m.\u001b[0m\u001b[0mones\u001b[0m\u001b[0;34m(\u001b[0m\u001b[0;36m5\u001b[0m\u001b[0;34m)\u001b[0m\u001b[0;34m\u001b[0m\u001b[0m\n\u001b[0;32m----> 3\u001b[0;31m \u001b[0mx\u001b[0m\u001b[0;34m+\u001b[0m\u001b[0mz\u001b[0m\u001b[0;34m\u001b[0m\u001b[0m\n\u001b[0m",
      "\u001b[0;31mValueError\u001b[0m: operands could not be broadcast together with shapes (10,) (5,) "
     ]
    }
   ],
   "source": [
    "# Arrays need to be same size:\n",
    "z = np.ones(5)\n",
    "x+z"
   ]
  },
  {
   "cell_type": "markdown",
   "metadata": {},
   "source": [
    "Now an exercise!"
   ]
  },
  {
   "cell_type": "code",
   "execution_count": 25,
   "metadata": {
    "collapsed": false,
    "scrolled": true
   },
   "outputs": [
    {
     "name": "stdout",
     "output_type": "stream",
     "text": [
      "[ 0.48294996  1.82174738  6.21849845  0.67027239  5.94062361  2.77059221\n",
      "  8.05538758  1.49804144  2.46474775  6.12354225  0.29052636  8.43606953\n",
      "  0.01785899  5.90093569  6.51201473  2.0618095   2.16325927  5.98958026\n",
      "  7.98096977  7.61073114]\n",
      "[  0.57953995   2.18609685   7.46219814   0.80432686   7.12874833\n",
      "   3.32471066   9.6664651    1.79764972   2.9576973    7.3482507\n",
      "   0.34863163  10.12328343   0.02143078   7.08112282   7.81441767\n",
      "   2.4741714    2.59591113   7.18749631   9.57716372   9.13287737]\n"
     ]
    }
   ],
   "source": [
    "# create an array of 20 numbers between 5 and 10 using a gamma distribution, print them \n",
    "# and later increase them in a 20% (you have to find the numpy function for that in the docs)\n",
    "shape, scale = 2., 2. # mean and dispersion\n",
    "r = np.random.gamma(shape, scale, 20)\n",
    "print r\n",
    "r = r*1.2\n",
    "print r"
   ]
  },
  {
   "cell_type": "markdown",
   "metadata": {},
   "source": [
    "## Basic graphing"
   ]
  },
  {
   "cell_type": "markdown",
   "metadata": {},
   "source": [
    "You can use matplotlib as usual. Now let's generate more random numbers."
   ]
  },
  {
   "cell_type": "code",
   "execution_count": 26,
   "metadata": {
    "collapsed": false
   },
   "outputs": [
    {
     "data": {
      "text/plain": [
       "[<matplotlib.lines.Line2D at 0x1057e4a90>]"
      ]
     },
     "execution_count": 26,
     "metadata": {},
     "output_type": "execute_result"
    },
    {
     "data": {
      "image/png": "[encoded data removed]",
      "text/plain": [
       "<matplotlib.figure.Figure at 0x105600290>"
      ]
     },
     "metadata": {},
     "output_type": "display_data"
    }
   ],
   "source": [
    "import matplotlib.pyplot as plt\n",
    "%matplotlib inline\n",
    "#Re-generate the previous array but with 2000 elements and plot it\n",
    "r = np.random.gamma(shape, scale, 2000)\n",
    "plt.plot(r)"
   ]
  },
  {
   "cell_type": "markdown",
   "metadata": {},
   "source": [
    "But for plotting the histogram, you need to do it other way..."
   ]
  },
  {
   "cell_type": "code",
   "execution_count": 27,
   "metadata": {
    "collapsed": false
   },
   "outputs": [
    {
     "data": {
      "text/plain": [
       "(array([ 27.,  28.,  62.,  64.,  77.,  81.,  93.,  81.,  74.,  82.,  84.,\n",
       "         90.,  89.,  69.,  63.,  55.,  60.,  63.,  61.,  56.,  53.,  52.,\n",
       "         44.,  43.,  47.,  32.,  31.,  25.,  25.,  22.,  21.,  23.,  20.,\n",
       "         21.,  14.,  22.,   9.,  15.,   9.,  10.,  15.,  11.,   5.,   7.,\n",
       "          9.,   4.,   3.,  12.,   5.,   1.,   3.,   5.,   0.,   0.,   1.,\n",
       "          1.,   2.,   4.,   1.,   2.,   2.,   1.,   0.,   0.,   0.,   0.,\n",
       "          0.,   0.,   0.,   0.,   1.,   2.,   0.,   0.,   1.,   1.,   1.,\n",
       "          0.,   0.,   0.,   1.,   0.,   0.,   0.,   0.,   0.,   0.,   0.,\n",
       "          0.,   1.,   0.,   0.,   0.,   0.,   0.,   0.,   0.,   0.,   0.,\n",
       "          1.]), array([  0.11304836,   0.34659309,   0.58013781,   0.81368254,\n",
       "          1.04722727,   1.280772  ,   1.51431673,   1.74786146,\n",
       "          1.98140619,   2.21495091,   2.44849564,   2.68204037,\n",
       "          2.9155851 ,   3.14912983,   3.38267456,   3.61621928,\n",
       "          3.84976401,   4.08330874,   4.31685347,   4.5503982 ,\n",
       "          4.78394293,   5.01748766,   5.25103238,   5.48457711,\n",
       "          5.71812184,   5.95166657,   6.1852113 ,   6.41875603,\n",
       "          6.65230075,   6.88584548,   7.11939021,   7.35293494,\n",
       "          7.58647967,   7.8200244 ,   8.05356913,   8.28711385,\n",
       "          8.52065858,   8.75420331,   8.98774804,   9.22129277,\n",
       "          9.4548375 ,   9.68838222,   9.92192695,  10.15547168,\n",
       "         10.38901641,  10.62256114,  10.85610587,  11.08965059,\n",
       "         11.32319532,  11.55674005,  11.79028478,  12.02382951,\n",
       "         12.25737424,  12.49091897,  12.72446369,  12.95800842,\n",
       "         13.19155315,  13.42509788,  13.65864261,  13.89218734,\n",
       "         14.12573206,  14.35927679,  14.59282152,  14.82636625,\n",
       "         15.05991098,  15.29345571,  15.52700044,  15.76054516,\n",
       "         15.99408989,  16.22763462,  16.46117935,  16.69472408,\n",
       "         16.92826881,  17.16181353,  17.39535826,  17.62890299,\n",
       "         17.86244772,  18.09599245,  18.32953718,  18.56308191,\n",
       "         18.79662663,  19.03017136,  19.26371609,  19.49726082,\n",
       "         19.73080555,  19.96435028,  20.197895  ,  20.43143973,\n",
       "         20.66498446,  20.89852919,  21.13207392,  21.36561865,\n",
       "         21.59916338,  21.8327081 ,  22.06625283,  22.29979756,\n",
       "         22.53334229,  22.76688702,  23.00043175,  23.23397647,  23.4675212 ]), <a list of 100 Patch objects>)"
      ]
     },
     "execution_count": 27,
     "metadata": {},
     "output_type": "execute_result"
    },
    {
     "data": {
      "image/png": "[encoded data removed]",
      "text/plain": [
       "<matplotlib.figure.Figure at 0x1042f2d10>"
      ]
     },
     "metadata": {},
     "output_type": "display_data"
    }
   ],
   "source": [
    "# TODO: Search in the docs of the pyplot object a way to plot a histogram. \n",
    "# You should particularly read what \"bins\" are as this influence the plotting of histograms. \n",
    "plt.hist(r, bins=100)"
   ]
  },
  {
   "cell_type": "markdown",
   "metadata": {},
   "source": [
    "Check if this looks like a Gamma distribution with the given parameters :-)"
   ]
  },
  {
   "cell_type": "markdown",
   "metadata": {},
   "source": [
    "## Using statistical libraries: analysis of variance"
   ]
  },
  {
   "cell_type": "markdown",
   "metadata": {},
   "source": [
    "Create three arrays of the same size, two with a Gamma distribution, and one with an exponential distribution. Print their variances."
   ]
  },
  {
   "cell_type": "code",
   "execution_count": 28,
   "metadata": {
    "collapsed": false
   },
   "outputs": [
    {
     "name": "stdout",
     "output_type": "stream",
     "text": [
      "0.0179571993162 0.0759496092143 0.575030608382 0.0759496092143\n"
     ]
    }
   ],
   "source": [
    "#Create three arrays of 200 random elements, two with Gamma and one exponential. \n",
    "# Print variances.\n",
    "a = np.random.gamma(0.25, 0.3, 200)\n",
    "b = np.random.gamma(0.3, 0.35, 200)\n",
    "c = np.random.exponential(0.7, 200)\n",
    "print a.var(), b.var(), c.var(), b.var()"
   ]
  },
  {
   "cell_type": "markdown",
   "metadata": {},
   "source": [
    "And now let's do the analysis of variance."
   ]
  },
  {
   "cell_type": "code",
   "execution_count": 29,
   "metadata": {
    "collapsed": false
   },
   "outputs": [
    {
     "name": "stdout",
     "output_type": "stream",
     "text": [
      "4.08246583541 0.0433303812235\n",
      "190.373793516 2.63475601614e-43\n"
     ]
    }
   ],
   "source": [
    "# Check analysis of variance between each pair of arrays and comment the results.\n",
    "# Note and read the assumptions of ANOVA, to see if they fit in this case.\n",
    "from scipy.stats import kruskal\n",
    "# In the first case, the p-value is relatively high which means they do not have different medians. \n",
    "h_val, p_val = kruskal(a, b)\n",
    "print h_val, p_val\n",
    "# In the second case, the p-value is very low, which means we reject the null hypothesis that \n",
    "# they come from the same population...\n",
    "h_val, p_val = kruskal(b, c)\n",
    "print h_val, p_val"
   ]
  },
  {
   "cell_type": "markdown",
   "metadata": {},
   "source": [
    "Now do the same check with two random samples normally distributed..."
   ]
  },
  {
   "cell_type": "markdown",
   "metadata": {},
   "source": [
    "## Indexing and slicing"
   ]
  },
  {
   "cell_type": "markdown",
   "metadata": {},
   "source": [
    "You can index and slice numpy arrays just as you do with Python lists. If you assign a value to an slice, it gets propagated to all the cells."
   ]
  },
  {
   "cell_type": "code",
   "execution_count": 30,
   "metadata": {
    "collapsed": false
   },
   "outputs": [
    {
     "name": "stdout",
     "output_type": "stream",
     "text": [
      "[ 1.  1.  1.  1.  1.  1.  1.  1.  1.  1.]\n",
      "[ 1.  1.  1.  1.  1.  0.  0.  0.  0.  0.]\n"
     ]
    }
   ],
   "source": [
    "#Create an array of ten ones, then slice the second half and set all the elements\n",
    "#in the slice to zero.\n",
    "o = np.ones(10)\n",
    "print o\n",
    "o[5:]=0\n",
    "print o"
   ]
  },
  {
   "cell_type": "markdown",
   "metadata": {},
   "source": [
    "A very important aspect of slicing is that **it creates views, not copies**"
   ]
  },
  {
   "cell_type": "code",
   "execution_count": 31,
   "metadata": {
    "collapsed": false
   },
   "outputs": [
    {
     "name": "stdout",
     "output_type": "stream",
     "text": [
      "[ 1.  1.  0.  0.]\n",
      "[ 4.  4.  4.  4.]\n",
      "[ 1.  1.  1.  4.  4.  4.  4.  0.  0.  0.]\n",
      "[ 4.  4.  4.  4.]\n"
     ]
    }
   ],
   "source": [
    "#Create a slice of the four elements in the middle of the above array \n",
    "# and use a new variable to reference it.\n",
    "# Then assign the value 2 to the new reference and print the original.\n",
    "sl = o[3:7]\n",
    "print sl\n",
    "sl[:] = 4\n",
    "print sl\n",
    "z = sl.copy()\n",
    "print o\n",
    "print z"
   ]
  },
  {
   "cell_type": "markdown",
   "metadata": {},
   "source": [
    "## Boolean arrays"
   ]
  },
  {
   "cell_type": "markdown",
   "metadata": {},
   "source": [
    "You can use boolean expressions to get boolean arrays."
   ]
  },
  {
   "cell_type": "code",
   "execution_count": 32,
   "metadata": {
    "collapsed": false
   },
   "outputs": [
    {
     "name": "stdout",
     "output_type": "stream",
     "text": [
      "[ 6.3  3.6  7.3  5.1  3.1  6.4  4.4  3.1  9.7  2.   7.3  6.2  6.7  5.6  4.8]\n",
      "[ 5.7  6.6  4.1  5.   6.7  4.1  1.7  5.   7.4  5.2  4.   3.4  4.6  2.2  5.4]\n"
     ]
    }
   ],
   "source": [
    "# Assign scores in a class of 15 students for two assignments.\n",
    "# Create two arrays with the scores of the students using a normal distribution.\n",
    "assig1 = np.random.normal(5, 2, 15)\n",
    "assig2 = np.random.normal(5, 2, 15)\n",
    "\n",
    "#TODO Round all the scores to one decimal. \n",
    "assig1 = assig1.round(1)\n",
    "assig2 = assig2.round(1)\n",
    "print assig1\n",
    "print assig2"
   ]
  },
  {
   "cell_type": "code",
   "execution_count": 33,
   "metadata": {
    "collapsed": false
   },
   "outputs": [
    {
     "name": "stdout",
     "output_type": "stream",
     "text": [
      "[ True False  True  True False  True False False  True False  True  True\n",
      "  True  True False]\n",
      "[ 6.    5.7   5.05  5.25  8.55  5.65  4.8   5.65  3.9 ]\n"
     ]
    }
   ],
   "source": [
    "# Now let's think that only the students that passed the first assignment will \n",
    "# have the second considered.\n",
    "# Get a boolean array for the students that passed the first assignement. \n",
    "passed1 = assig1 >= 5.0\n",
    "print passed1\n",
    "\n",
    "# Now get the mean of the two assignments per each of the students that passed the first one.\n",
    "print ((assig2+assig1)/2)[passed1]"
   ]
  },
  {
   "cell_type": "markdown",
   "metadata": {},
   "source": [
    "## Playing with ufuncs"
   ]
  },
  {
   "cell_type": "markdown",
   "metadata": {},
   "source": [
    "Universal functions (ufuncs) are vectorized operations on NumPy arrays. Let's plot some functions implemented with ufuncs. The complete list is here: http://docs.scipy.org/doc/numpy/reference/ufuncs.html "
   ]
  },
  {
   "cell_type": "code",
   "execution_count": 34,
   "metadata": {
    "collapsed": false
   },
   "outputs": [
    {
     "name": "stdout",
     "output_type": "stream",
     "text": [
      "50\n"
     ]
    },
    {
     "data": {
      "text/plain": [
       "[<matplotlib.lines.Line2D at 0x107c2f190>]"
      ]
     },
     "execution_count": 34,
     "metadata": {},
     "output_type": "execute_result"
    },
    {
     "data": {
      "image/png": "[encoded data removed]",
      "text/plain": [
       "<matplotlib.figure.Figure at 0x107a7c6d0>"
      ]
     },
     "metadata": {},
     "output_type": "display_data"
    }
   ],
   "source": [
    "import numpy as np\n",
    "#TODO: Create an array of 50 elements between 1 and 100 using linspace. Look\n",
    "# at the documentation of this function.\n",
    "x = np.linspace(1, 100)\n",
    "print len(x)\n",
    "\n",
    "# Get the sin of each of the generated points and plot them.\n",
    "y = np.sin(x)\n",
    "plt.plot(x,y)"
   ]
  },
  {
   "cell_type": "markdown",
   "metadata": {},
   "source": [
    "You can plot several arrays in the same plot. "
   ]
  },
  {
   "cell_type": "code",
   "execution_count": 35,
   "metadata": {
    "collapsed": false
   },
   "outputs": [
    {
     "data": {
      "text/plain": [
       "[<matplotlib.lines.Line2D at 0x107e2eb90>,\n",
       " <matplotlib.lines.Line2D at 0x107e2ee10>]"
      ]
     },
     "execution_count": 35,
     "metadata": {},
     "output_type": "execute_result"
    },
    {
     "data": {
      "image/png": "[encoded data removed]",
      "text/plain": [
       "<matplotlib.figure.Figure at 0x107be6410>"
      ]
     },
     "metadata": {},
     "output_type": "display_data"
    }
   ],
   "source": [
    "# TODO: Plot the same as above, plus the square of the sin values. \n",
    "# Look in the docs how you can pass more than one array to plot, and how to draw the second \n",
    "# with a different color, e.g. red.\n",
    "plt.plot(x, y, x, y**2, 'r-^')"
   ]
  },
  {
   "cell_type": "markdown",
   "metadata": {},
   "source": [
    "You can also generate random points and do scaterplotting"
   ]
  },
  {
   "cell_type": "code",
   "execution_count": 36,
   "metadata": {
    "collapsed": false
   },
   "outputs": [
    {
     "data": {
      "text/plain": [
       "<matplotlib.collections.PathCollection at 0x107f39d50>"
      ]
     },
     "execution_count": 36,
     "metadata": {},
     "output_type": "execute_result"
    },
    {
     "name": "stderr",
     "output_type": "stream",
     "text": [
      "/Users/msicilia/anaconda/lib/python2.7/site-packages/matplotlib/collections.py:590: FutureWarning: elementwise comparison failed; returning scalar instead, but in the future will perform elementwise comparison\n",
      "  if self._edgecolors == str('face'):\n"
     ]
    },
    {
     "data": {
      "image/png": "[encoded data removed]",
      "text/plain": [
       "<matplotlib.figure.Figure at 0x107c64b10>"
      ]
     },
     "metadata": {},
     "output_type": "display_data"
    }
   ],
   "source": [
    "#TODO: generate two arrays of the same size using a random generator with gamma dstribution.\n",
    "a = np.random.gamma(3,2, 100)\n",
    "b = np.random.gamma(3,2, 100)\n",
    "\n",
    "# Plot the two arrays as a scatterplot.\n",
    "plt.scatter(a,b)"
   ]
  },
  {
   "cell_type": "markdown",
   "metadata": {
    "collapsed": false
   },
   "source": [
    "Summarization operations are implemented also."
   ]
  },
  {
   "cell_type": "code",
   "execution_count": 37,
   "metadata": {
    "collapsed": false
   },
   "outputs": [
    {
     "data": {
      "text/plain": [
       "5.8843333238667581"
      ]
     },
     "execution_count": 37,
     "metadata": {},
     "output_type": "execute_result"
    }
   ],
   "source": [
    "b.mean()"
   ]
  },
  {
   "cell_type": "code",
   "execution_count": 38,
   "metadata": {
    "collapsed": false
   },
   "outputs": [
    {
     "data": {
      "text/plain": [
       "array([ 3.10730978,  2.29518023,  2.14572469,  3.17874597,  3.39014409,\n",
       "        2.18816765,  1.92972219,  1.9846377 ,  1.77663807,  1.28058105,\n",
       "        3.22711886,  2.38861364,  2.64572945,  2.52992346,  2.35424168,\n",
       "        2.21423087,  2.85801172,  1.77015798,  1.3058951 ,  1.97549048,\n",
       "        2.21795886,  2.55388281,  2.88738824,  2.82696115,  1.80177538,\n",
       "        2.15139607,  2.56599641,  1.68621186,  1.83176997,  2.46038665,\n",
       "        1.3458876 ,  1.47284659,  1.30232748,  2.47459054,  2.94108013,\n",
       "        1.70959837,  1.42475841,  2.50491302,  3.07372852,  2.44379793,\n",
       "        2.8646907 ,  2.81697647,  2.24191015,  2.0962903 ,  2.31820779,\n",
       "        2.74003127,  3.12107743,  3.10665638,  1.97939773,  3.21622879,\n",
       "        2.01713354,  1.75891771,  2.75393569,  2.80368445,  2.49683467,\n",
       "        1.70516434,  2.03851589,  2.32251749,  1.76395696,  1.95125856,\n",
       "        1.49754518,  2.1634704 ,  3.94390421,  3.82906566,  1.66703554,\n",
       "        2.82296228,  2.25854664,  2.67632483,  2.42026572,  3.24222592,\n",
       "        2.39948135,  1.66039829,  2.18156168,  2.98240658,  1.17650223,\n",
       "        2.20278972,  2.5670148 ,  3.02553403,  1.93571126,  2.98315967,\n",
       "        2.76125448,  3.18475799,  3.03074162,  2.05471822,  2.10280233,\n",
       "        1.47826574,  3.33370531,  2.49401938,  3.1814532 ,  3.43158706,\n",
       "        1.65499537,  1.5377072 ,  1.14526081,  1.98441692,  1.86762666,\n",
       "        2.40877515,  2.47126213,  2.09765554,  1.93252214,  2.66027984])"
      ]
     },
     "execution_count": 38,
     "metadata": {},
     "output_type": "execute_result"
    }
   ],
   "source": [
    "np.sqrt(b)"
   ]
  },
  {
   "cell_type": "markdown",
   "metadata": {},
   "source": [
    "This is a key reference:\n",
    "http://wiki.scipy.org/Numpy_Example_List"
   ]
  },
  {
   "cell_type": "code",
   "execution_count": null,
   "metadata": {
    "collapsed": true
   },
   "outputs": [],
   "source": []
  }
 ],
 "metadata": {
  "kernelspec": {
   "display_name": "Python 2",
   "language": "python",
   "name": "python2"
  },
  "language_info": {
   "codemirror_mode": {
    "name": "ipython",
    "version": 2
   },
   "file_extension": ".py",
   "mimetype": "text/x-python",
   "name": "python",
   "nbconvert_exporter": "python",
   "pygments_lexer": "ipython2",
   "version": "2.7.10"
  }
 },
 "nbformat": 4,
 "nbformat_minor": 0
}
