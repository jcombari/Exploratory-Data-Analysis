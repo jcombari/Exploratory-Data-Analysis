{
 "cells": [
  {
   "cell_type": "markdown",
   "metadata": {},
   "source": [
    "##Algunas utilidades de IPython"
   ]
  },
  {
   "cell_type": "markdown",
   "metadata": {},
   "source": [
    "###La historia"
   ]
  },
  {
   "cell_type": "markdown",
   "metadata": {},
   "source": [
    "Lo primero que tenemos que notar es que las celdas se marcan con In[..] y las salidas de expresiones con Out[...] y estas son variables. Hay \"atajos\" como utilizar \"_\" para referirnos a la última salida."
   ]
  },
  {
   "cell_type": "code",
   "execution_count": 1,
   "metadata": {
    "collapsed": false
   },
   "outputs": [
    {
     "data": {
      "text/plain": [
       "4"
      ]
     },
     "execution_count": 1,
     "metadata": {},
     "output_type": "execute_result"
    }
   ],
   "source": [
    "2+2"
   ]
  },
  {
   "cell_type": "code",
   "execution_count": 2,
   "metadata": {
    "collapsed": false
   },
   "outputs": [
    {
     "data": {
      "text/plain": [
       "6"
      ]
     },
     "execution_count": 2,
     "metadata": {},
     "output_type": "execute_result"
    }
   ],
   "source": [
    "_ +2"
   ]
  },
  {
   "cell_type": "markdown",
   "metadata": {},
   "source": [
    "Las entradas son cadenas."
   ]
  },
  {
   "cell_type": "code",
   "execution_count": 3,
   "metadata": {
    "collapsed": false
   },
   "outputs": [
    {
     "data": {
      "text/plain": [
       "u'2+2'"
      ]
     },
     "execution_count": 3,
     "metadata": {},
     "output_type": "execute_result"
    }
   ],
   "source": [
    "In[1]"
   ]
  },
  {
   "cell_type": "code",
   "execution_count": 4,
   "metadata": {
    "collapsed": false
   },
   "outputs": [
    {
     "data": {
      "text/plain": [
       "14"
      ]
     },
     "execution_count": 4,
     "metadata": {},
     "output_type": "execute_result"
    }
   ],
   "source": [
    "Out[1]+10"
   ]
  },
  {
   "cell_type": "code",
   "execution_count": 5,
   "metadata": {
    "collapsed": false
   },
   "outputs": [
    {
     "data": {
      "text/plain": [
       "15"
      ]
     },
     "execution_count": 5,
     "metadata": {},
     "output_type": "execute_result"
    }
   ],
   "source": [
    "_4 +1"
   ]
  },
  {
   "cell_type": "code",
   "execution_count": 6,
   "metadata": {
    "collapsed": false
   },
   "outputs": [
    {
     "name": "stdout",
     "output_type": "stream",
     "text": [
      "penúltima: 14\n"
     ]
    }
   ],
   "source": [
    "print \"penúltima:\", __"
   ]
  },
  {
   "cell_type": "markdown",
   "metadata": {},
   "source": [
    "Para un acceso a la historia en general tenemos el magic %history (tiene parámetros)"
   ]
  },
  {
   "cell_type": "code",
   "execution_count": 7,
   "metadata": {
    "collapsed": false
   },
   "outputs": [
    {
     "name": "stdout",
     "output_type": "stream",
     "text": [
      "2+2\n",
      "_ +2\n",
      "In[1]\n",
      "Out[1]+10\n",
      "_4 +1\n",
      "print \"penúltima:\", __\n",
      "%history\n"
     ]
    }
   ],
   "source": [
    "%history"
   ]
  },
  {
   "cell_type": "markdown",
   "metadata": {},
   "source": [
    "##Uso del sistema operativo"
   ]
  },
  {
   "cell_type": "code",
   "execution_count": 8,
   "metadata": {
    "collapsed": false
   },
   "outputs": [
    {
     "name": "stdout",
     "output_type": "stream",
     "text": [
      "total 72\r\n",
      "drwxr-xr-x   8 msicilia  staff    272 28 oct 12:05 \u001b[34m.\u001b[m\u001b[m/\r\n",
      "drwxr-xr-x  10 msicilia  staff    340 28 oct 11:44 \u001b[34m..\u001b[m\u001b[m/\r\n",
      "-rw-r--r--@  1 msicilia  staff   6148 28 oct 11:43 .DS_Store\r\n",
      "drwxr-xr-x   5 msicilia  staff    170 28 oct 11:40 \u001b[34m.ipynb_checkpoints\u001b[m\u001b[m/\r\n",
      "-rw-r--r--   1 msicilia  staff   8564 27 oct 23:34 0_1_uso_interfaz_notebooks.ipynb\r\n",
      "-rw-r--r--   1 msicilia  staff  11298 28 oct 12:05 0_2_ipython_goodies.ipynb\r\n",
      "drwxr-xr-x   2 msicilia  staff     68 28 oct 11:55 \u001b[34mcarpeta\u001b[m\u001b[m/\r\n",
      "-rw-r--r--   1 msicilia  staff    253 28 oct 11:58 conn.txt\r\n"
     ]
    }
   ],
   "source": [
    "%ls -la"
   ]
  },
  {
   "cell_type": "markdown",
   "metadata": {},
   "source": [
    "Se pueden utilizar en expresiones \"!\", que ejecuta una shell y devuelve los resultados:"
   ]
  },
  {
   "cell_type": "code",
   "execution_count": 9,
   "metadata": {
    "collapsed": false
   },
   "outputs": [
    {
     "name": "stdout",
     "output_type": "stream",
     "text": [
      "<class 'IPython.utils.text.SList'>\n"
     ]
    },
    {
     "data": {
      "text/plain": [
       "['/Users/msicilia/Desktop/TEACH/2015-16/CIFF-EDSP/bloque0/notebooks']"
      ]
     },
     "execution_count": 9,
     "metadata": {},
     "output_type": "execute_result"
    }
   ],
   "source": [
    "donde_estoy = !pwd\n",
    "print type(donde_estoy)\n",
    "donde_estoy"
   ]
  },
  {
   "cell_type": "markdown",
   "metadata": {},
   "source": [
    "Y se pueden utilizar variables de Python en los magics."
   ]
  },
  {
   "cell_type": "code",
   "execution_count": 10,
   "metadata": {
    "collapsed": false
   },
   "outputs": [
    {
     "name": "stdout",
     "output_type": "stream",
     "text": [
      "mkdir: carpeta: File exists\n",
      "total 72\n",
      "drwxr-xr-x   8 msicilia  staff    272 28 oct 12:05 \u001b[34m.\u001b[m\u001b[m/\n",
      "drwxr-xr-x  10 msicilia  staff    340 28 oct 11:44 \u001b[34m..\u001b[m\u001b[m/\n",
      "-rw-r--r--@  1 msicilia  staff   6148 28 oct 11:43 .DS_Store\n",
      "drwxr-xr-x   5 msicilia  staff    170 28 oct 11:40 \u001b[34m.ipynb_checkpoints\u001b[m\u001b[m/\n",
      "-rw-r--r--   1 msicilia  staff   8564 27 oct 23:34 0_1_uso_interfaz_notebooks.ipynb\n",
      "-rw-r--r--   1 msicilia  staff  11298 28 oct 12:05 0_2_ipython_goodies.ipynb\n",
      "drwxr-xr-x   2 msicilia  staff     68 28 oct 11:55 \u001b[34mcarpeta\u001b[m\u001b[m/\n",
      "-rw-r--r--   1 msicilia  staff    253 28 oct 11:58 conn.txt\n"
     ]
    }
   ],
   "source": [
    "nombre = \"carpeta\"\n",
    "%mkdir {nombre}\n",
    "%ls -la"
   ]
  },
  {
   "cell_type": "markdown",
   "metadata": {},
   "source": [
    "##Más magia"
   ]
  },
  {
   "cell_type": "markdown",
   "metadata": {},
   "source": [
    "Para ver todos los comandos mágicos:"
   ]
  },
  {
   "cell_type": "code",
   "execution_count": 11,
   "metadata": {
    "collapsed": true
   },
   "outputs": [],
   "source": [
    "%magic"
   ]
  },
  {
   "cell_type": "markdown",
   "metadata": {},
   "source": [
    "Si queremos explícitamente ejecutar una shell y tomar resultados:"
   ]
  },
  {
   "cell_type": "code",
   "execution_count": 12,
   "metadata": {
    "collapsed": false
   },
   "outputs": [
    {
     "name": "stdout",
     "output_type": "stream",
     "text": [
      "  PID TTY           TIME CMD\n",
      "  486 ttys000    0:00.02 -bash\n",
      " 5395 ttys001    0:00.05 -bash\n",
      "10465 ttys002    0:00.33 -bash\n",
      "10698 ttys003    0:00.12 -bash\n",
      "12250 ttys003    0:00.01 /bin/bash /Users/msicilia/anaconda/bin/python.app /Users/msicilia/anaconda/bin/ipython notebook\n",
      "12251 ttys003    0:16.75 /Users/msicilia/anaconda/python.app/Contents/MacOS/python /Users/msicilia/anaconda/bin/ipython notebook\n",
      "12707 ttys003    0:00.48 /Users/msicilia/anaconda/bin/python -m IPython.kernel -f /Users/msicilia/.ipython/profile_default/security/kernel-552d1445-d8d9-4920-8213-1663ea58c1d4.json --profile-dir /Users/msicilia/.ipython/profile_default\n",
      "12713 ttys003    0:00.01 bash\n"
     ]
    }
   ],
   "source": [
    "%%bash\n",
    "ps"
   ]
  },
  {
   "cell_type": "code",
   "execution_count": 13,
   "metadata": {
    "collapsed": false,
    "scrolled": true
   },
   "outputs": [
    {
     "name": "stdout",
     "output_type": "stream",
     "text": [
      "<class 'IPython.utils.text.SList'>\n",
      "['10465 ttys002    0:00.33 -bash', '10698 ttys003    0:00.12 -bash']\n"
     ]
    }
   ],
   "source": [
    "procesos = !ps\n",
    "print type(procesos)\n",
    "print procesos[3:5]"
   ]
  },
  {
   "cell_type": "markdown",
   "metadata": {},
   "source": [
    "Una referencia más completa en:\n",
    "    http://ipython.org/ipython-doc/stable/interactive/reference.html\n"
   ]
  },
  {
   "cell_type": "markdown",
   "metadata": {},
   "source": [
    "###Por último, veamos el kernel como un proceso!"
   ]
  },
  {
   "cell_type": "code",
   "execution_count": 14,
   "metadata": {
    "collapsed": false
   },
   "outputs": [
    {
     "name": "stdout",
     "output_type": "stream",
     "text": [
      "{\n",
      "  \"stdin_port\": 57745, \n",
      "  \"ip\": \"127.0.0.1\", \n",
      "  \"control_port\": 57746, \n",
      "  \"hb_port\": 57747, \n",
      "  \"signature_scheme\": \"hmac-sha256\", \n",
      "  \"key\": \"c530d8ba-ae56-449c-8f52-ed8007957451\", \n",
      "  \"shell_port\": 57743, \n",
      "  \"transport\": \"tcp\", \n",
      "  \"iopub_port\": 57744\n",
      "}\n",
      "\n",
      "Paste the above JSON into a file, and connect with:\n",
      "    $> ipython <app> --existing <file>\n",
      "or, if you are local, you can connect with just:\n",
      "    $> ipython <app> --existing kernel-552d1445-d8d9-4920-8213-1663ea58c1d4.json \n",
      "or even just:\n",
      "    $> ipython <app> --existing \n",
      "if this is the most recent IPython session you have started.\n"
     ]
    }
   ],
   "source": [
    "%connect_info"
   ]
  },
  {
   "cell_type": "markdown",
   "metadata": {},
   "source": [
    "Vemos que el Notebook está asociado a un proceso que es accesible mediante una configuración de red. Una forma de conectarnos desde una consola de IPython a este mismo proceso es:\n",
    "\n",
    "<code>ipython console --existing</code> (se conecta al último kernel arrancado)\n",
    "\n",
    "Podemos conectar a este mismo kernel desde una consola y probar a definir nuevas variables, que se verán tanto desde el Notebook como desde la consola. Es una forma de compartir un mismo proceso. \n",
    "NOTA: Al salir de la consola se cerrará el kernel, a menos que salgamos indicando lo contrario:\n",
    "\n",
    "<code>exit(keep_kernel=True)</code>"
   ]
  },
  {
   "cell_type": "code",
   "execution_count": 19,
   "metadata": {
    "collapsed": false
   },
   "outputs": [
    {
     "name": "stdout",
     "output_type": "stream",
     "text": [
      "Variable      Type     Data/Info\n",
      "--------------------------------\n",
      "a             int      20\n",
      "donde_estoy   SList    ['/Users/msicilia/Desktop<...>-EDSP/bloque0/notebooks']\n",
      "nombre        str      carpeta\n",
      "procesos      SList    ['  PID TTY           TIM<...>ipython/profile_default']\n"
     ]
    }
   ],
   "source": [
    "%whos"
   ]
  },
  {
   "cell_type": "markdown",
   "metadata": {
    "collapsed": true
   },
   "source": [
    "###Algún truco más interesante..."
   ]
  },
  {
   "cell_type": "markdown",
   "metadata": {
    "collapsed": true
   },
   "source": [
    "http://blog.rtwilson.com/ipython-tips-tricks-notes-part-1/"
   ]
  },
  {
   "cell_type": "code",
   "execution_count": null,
   "metadata": {
    "collapsed": true
   },
   "outputs": [],
   "source": []
  }
 ],
 "metadata": {
  "kernelspec": {
   "display_name": "Python 2",
   "language": "python",
   "name": "python2"
  },
  "language_info": {
   "codemirror_mode": {
    "name": "ipython",
    "version": 2
   },
   "file_extension": ".py",
   "mimetype": "text/x-python",
   "name": "python",
   "nbconvert_exporter": "python",
   "pygments_lexer": "ipython2",
   "version": "2.7.10"
  }
 },
 "nbformat": 4,
 "nbformat_minor": 0
}
